{
 "cells": [
  {
   "cell_type": "markdown",
   "metadata": {},
   "source": [
    "\n",
    "# Python Primitive Types\n",
    "\n",
    "### Numerical\n",
    "    - int: Integer - number without a fractional parts\n",
    "\n",
    "    - float: A number that has both integer and fractional part separated with decimal point\n",
    "\n",
    "### Textual\n",
    "    - str: represents text, using single or double quotes to hold textual values\n",
    "\n",
    "\n",
    "### Boolean\n",
    "    - bool: boolean - a type to represent logical values (True or False - should be capitalized for Initial Character)\n",
    "\n",
    "\n",
    "### Operator \n",
    "    - Operation can be differently functioned based on the type of operants\n",
    "    e.g. 2 + 3 = 5  or '2' + '3' = '23'\n",
    "\n",
    "### Type function\n",
    "    How to check type of variable\n",
    "    type()\n",
    "\n",
    "    "
   ]
  },
  {
   "cell_type": "code",
   "execution_count": 65,
   "metadata": {},
   "outputs": [
    {
     "name": "stdout",
     "output_type": "stream",
     "text": [
      "3\n",
      "12\n"
     ]
    }
   ],
   "source": [
    "# Operator\n",
    "calInt = 1 + 2\n",
    "print(calInt)\n",
    "calStr = '1' + '2'\n",
    "print(calStr)"
   ]
  },
  {
   "cell_type": "code",
   "execution_count": 66,
   "metadata": {},
   "outputs": [
    {
     "data": {
      "text/plain": [
       "float"
      ]
     },
     "execution_count": 66,
     "metadata": {},
     "output_type": "execute_result"
    }
   ],
   "source": [
    "# Calculate BMI\n",
    "height_m = 1.69\n",
    "weight_kg = 49.9\n",
    "bmi = weight_kg / height_m ** 2\n",
    "bmi\n",
    "\n",
    "# check type\n",
    "type(bmi)"
   ]
  },
  {
   "cell_type": "markdown",
   "metadata": {},
   "source": [
    "# python Non-primitive Types\n",
    "\n",
    "### List\n",
    "    - A collection of values that can contains any type or different multiple types including primitive or non-primitive data\n",
    "    - subsetting list with index\n",
    "    - slicing with index [startIndex_inclusive : endIndex_exclusive]\n",
    "    - change/add/remove element of list\n",
    "    - stack feature \n",
    "    - copy with '=' sign - only copying the reference to the value not actual values are copied\n",
    "    - to copy actual values and create another list - list(srcList)\n"
   ]
  },
  {
   "cell_type": "code",
   "execution_count": 67,
   "metadata": {},
   "outputs": [
    {
     "name": "stdout",
     "output_type": "stream",
     "text": [
      "first\n",
      "second\n",
      "third\n",
      "['first', 'second']\n",
      "['third']\n"
     ]
    },
    {
     "data": {
      "text/plain": [
       "['first', 'second', 'third']"
      ]
     },
     "execution_count": 67,
     "metadata": {},
     "output_type": "execute_result"
    }
   ],
   "source": [
    "# subsetting lists / slicing\n",
    "listOfElements = ['first', 'second', 'third']\n",
    "firstElement = listOfElements[0]\n",
    "secondElement = listOfElements[1]\n",
    "lastElement = listOfElements[-1]\n",
    "\n",
    "print(firstElement)\n",
    "print(secondElement)\n",
    "print(lastElement)\n",
    "\n",
    "thefirstSecond = listOfElements[:2]\n",
    "theRestTillLast = listOfElements[2:]\n",
    "print(thefirstSecond)\n",
    "print(theRestTillLast)\n",
    "listOfElements"
   ]
  },
  {
   "cell_type": "code",
   "execution_count": 68,
   "metadata": {},
   "outputs": [
    {
     "name": "stdout",
     "output_type": "stream",
     "text": [
      "['first', 'second', 'third']\n",
      "['first', 'second', 'third', 'afterThirdValue']\n",
      "['first', 'second', 'third', 'afterThirdValue', 'extendedValue1InAnotherList', 'extendedValue2InAnotherList']\n"
     ]
    }
   ],
   "source": [
    "# Add / Remove / Update list element\n",
    "print(listOfElements) \n",
    "listOfElements.append('afterThirdValue')\n",
    "print(listOfElements)\n",
    "listOfElements.extend(['extendedValue1InAnotherList' , 'extendedValue2InAnotherList'])\n",
    "print(listOfElements)\n"
   ]
  },
  {
   "cell_type": "code",
   "execution_count": 69,
   "metadata": {},
   "outputs": [
    {
     "name": "stdout",
     "output_type": "stream",
     "text": [
      "['first', 'second', 'third', 'afterThirdValue', 'extendedValue1InAnotherList', 'extendedValue2InAnotherList', 'first', 'second', 'third', 'afterThirdValue', 'extendedValue1InAnotherList', 'extendedValue2InAnotherList']\n"
     ]
    }
   ],
   "source": [
    "AnotherWayToExtend = listOfElements + listOfElements\n",
    "print(AnotherWayToExtend)"
   ]
  },
  {
   "cell_type": "code",
   "execution_count": 70,
   "metadata": {},
   "outputs": [
    {
     "name": "stdout",
     "output_type": "stream",
     "text": [
      "['first', 'second', 'third', 'afterThirdValue', 'extendedValue1InAnotherList']\n"
     ]
    }
   ],
   "source": [
    "del(listOfElements[-1])\n",
    "print(listOfElements)"
   ]
  },
  {
   "cell_type": "code",
   "execution_count": 71,
   "metadata": {},
   "outputs": [
    {
     "name": "stdout",
     "output_type": "stream",
     "text": [
      "['first', 'second', 'third', 'afterThirdValue']\n",
      "extendedValue1InAnotherList\n"
     ]
    }
   ],
   "source": [
    "lastAddedValue = listOfElements.pop() #stack\n",
    "print(listOfElements) #lastElementRemoved\n",
    "print(lastAddedValue) #poppled element"
   ]
  },
  {
   "cell_type": "code",
   "execution_count": 72,
   "metadata": {},
   "outputs": [
    {
     "name": "stdout",
     "output_type": "stream",
     "text": [
      "['beforeFirstElementVal', 'first', 'second', 'third', 'afterThirdValue']\n"
     ]
    }
   ],
   "source": [
    "listOfElements.insert(0, 'beforeFirstElementVal')\n",
    "print(listOfElements)"
   ]
  },
  {
   "cell_type": "code",
   "execution_count": 74,
   "metadata": {},
   "outputs": [
    {
     "name": "stdout",
     "output_type": "stream",
     "text": [
      "before ref Copied: ['beforeFirstElementVal', 'first', 'second', 'third', 'LastValueHasBeenUpdated']\n",
      "after ref Copied and Updated: ['beforeFirstElementVal', 'first', 'second', 'third', 'LastValueHasBeenUpdated']\n",
      "ref Copied list: ['beforeFirstElementVal', 'first', 'second', 'third', 'LastValueHasBeenUpdated']\n",
      "before ref Copied: ['beforeFirstElementVal', 'first', 'second', 'third', 'LastValueHasBeenUpdated']\n",
      "val Copied list: ['beforeFirstElementVal', 'first', 'second', 'third', 'LastElementCopliedWithValuedCopiedList']\n"
     ]
    }
   ],
   "source": [
    "# reference copy\n",
    "refCopiedList = listOfElements\n",
    "print(f\"before ref Copied: {listOfElements}\")\n",
    "refCopiedList[-1] = 'LastValueHasBeenUpdated'\n",
    "print(f\"after ref Copied and Updated: {listOfElements}\")\n",
    "print(f\"ref Copied list: {refCopiedList}\")\n",
    "\n",
    "valCopiedList = list(listOfElements)\n",
    "print(f\"before ref Copied: {listOfElements}\")\n",
    "valCopiedList[-1] = 'LastElementCopliedWithValuedCopiedList'\n",
    "print(f\"val Copied list: {valCopiedList}\")\n"
   ]
  }
 ],
 "metadata": {
  "interpreter": {
   "hash": "afe6c377662d3cf3baae407810cc6015126ebe0984753d811cf9a813dcbd161d"
  },
  "kernelspec": {
   "display_name": "Python 3.10.2 64-bit",
   "language": "python",
   "name": "python3"
  },
  "language_info": {
   "codemirror_mode": {
    "name": "ipython",
    "version": 3
   },
   "file_extension": ".py",
   "mimetype": "text/x-python",
   "name": "python",
   "nbconvert_exporter": "python",
   "pygments_lexer": "ipython3",
   "version": "3.10.2"
  },
  "orig_nbformat": 4
 },
 "nbformat": 4,
 "nbformat_minor": 2
}
