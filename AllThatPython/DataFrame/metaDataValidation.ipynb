{
 "cells": [
  {
   "cell_type": "markdown",
   "metadata": {},
   "source": [
    "* Q1. Given two excel files as shown below one with meta data showing the data type of each column and other with actual data of all columns. Wirte python code to automate the validation for each row of actual data excel using metadata excel to check if all the columns have valid data types as per Metadata excel. Indicate the final output showing all rows of actual data with validation status column is showing if a row is valid or now.\n"
   ]
  },
  {
   "cell_type": "code",
   "execution_count": null,
   "metadata": {},
   "outputs": [],
   "source": [
    "import pandas as pd #pd.NaT\n",
    "import numpy as np # np.NaN\n",
    "\n",
    "\n",
    "metaData =  pd.DataFrame([(\"Name\", \"str\"), (\"Age\", \"int\"), (\"Salary\", \"float\")], columns=[\"columnName\", \"DataType\"])\n",
    "dataSet = pd.DataFrame({\n",
    "        \"Name\": [\"Emp1\", \"Emp2\", \"Emp3\"],\n",
    "        \"Age\": [34, pd.NA, 25],\n",
    "        \"Salary\": [45689.24, 89950.56, 89457.78]\n",
    "    })\n",
    "\n",
    "\n"
   ]
  },
  {
   "cell_type": "code",
   "execution_count": null,
   "metadata": {},
   "outputs": [
    {
     "data": {
      "text/html": [
       "<div>\n",
       "<style scoped>\n",
       "    .dataframe tbody tr th:only-of-type {\n",
       "        vertical-align: middle;\n",
       "    }\n",
       "\n",
       "    .dataframe tbody tr th {\n",
       "        vertical-align: top;\n",
       "    }\n",
       "\n",
       "    .dataframe thead th {\n",
       "        text-align: right;\n",
       "    }\n",
       "</style>\n",
       "<table border=\"1\" class=\"dataframe\">\n",
       "  <thead>\n",
       "    <tr style=\"text-align: right;\">\n",
       "      <th></th>\n",
       "      <th>Name</th>\n",
       "      <th>Age</th>\n",
       "      <th>Salary</th>\n",
       "    </tr>\n",
       "  </thead>\n",
       "  <tbody>\n",
       "    <tr>\n",
       "      <th>0</th>\n",
       "      <td>Emp1</td>\n",
       "      <td>34.0</td>\n",
       "      <td>45689.24</td>\n",
       "    </tr>\n",
       "    <tr>\n",
       "      <th>1</th>\n",
       "      <td>Emp2</td>\n",
       "      <td>NaN</td>\n",
       "      <td>89950.56</td>\n",
       "    </tr>\n",
       "    <tr>\n",
       "      <th>2</th>\n",
       "      <td>Emp3</td>\n",
       "      <td>25.0</td>\n",
       "      <td>89457.78</td>\n",
       "    </tr>\n",
       "  </tbody>\n",
       "</table>\n",
       "</div>"
      ],
      "text/plain": [
       "   Name   Age    Salary\n",
       "0  Emp1  34.0  45689.24\n",
       "1  Emp2   NaN  89950.56\n",
       "2  Emp3  25.0  89457.78"
      ]
     },
     "execution_count": 8,
     "metadata": {},
     "output_type": "execute_result"
    }
   ],
   "source": [
    "metaData\n",
    "dataSet"
   ]
  },
  {
   "cell_type": "markdown",
   "metadata": {},
   "source": [
    "* Q2. Given a list of values as shown below. Write code in python to find the number with maximum occurrences.\n",
    "\n",
    "    2, 6, 3, 5, 7, 8, 3, 4, 9, 6, 4, 2, 6, 4, 5, 4"
   ]
  },
  {
   "cell_type": "code",
   "execution_count": null,
   "metadata": {},
   "outputs": [],
   "source": [
    "def getMaxNum(list):\n",
    "    d = {}\n",
    "    num = None\n",
    "    maxNum = 1\n",
    "    for x in list:\n",
    "        if num is None:\n",
    "            num = x\n",
    "        if x not in d:\n",
    "            d[x] = 1\n",
    "        else:\n",
    "            d[x] += 1\n",
    "\n",
    "        if maxNum < d[x]:\n",
    "            maxNum = d[x]\n",
    "            num = x\n",
    "    \n",
    "    return [num, maxNum]\n",
    "        \n",
    "getMaxNum([2, 6, 3, 5, 7, 8, 3, 4, 9, 6, 4, 2, 6, 4, 5, 4]\n",
    "\n",
    ")"
   ]
  },
  {
   "cell_type": "markdown",
   "metadata": {},
   "source": [
    "* 3. Given a sorted list of values as shown below. Write code in python to find the position(index) of Number 32.\n",
    "\n",
    "    2, 6, 18, 22, 24, 32, 45, 56, 66, 99, 100"
   ]
  },
  {
   "cell_type": "code",
   "execution_count": null,
   "metadata": {},
   "outputs": [],
   "source": [
    "def getIndex(list, start, end, tgt):\n",
    "\n",
    "    midpoint = len(list)//2-1\n",
    "    print(midpoint)\n",
    "\n",
    "    if list[midpoint] == tgt:\n",
    "        return midpoint\n",
    "    elif list[midpoint] < tgt:\n",
    "        start = midpoint \n",
    "        return getIndex(list, start, end, tgt)\n",
    "    elif list[midpoint] > tgt:\n",
    "        end = midpoint\n",
    "        return getIndex(list, start, end, tgt)\n",
    "    else:\n",
    "        return None\n",
    "\n",
    "\n",
    "list = [ 2, 6, 18, 22, 24, 32, 45, 56, 66, 99, 100]\n",
    "\n",
    "\n",
    "print(getIndex(list, 0, len(list), 32))\n",
    "\n",
    "\n"
   ]
  },
  {
   "cell_type": "markdown",
   "metadata": {},
   "source": [
    "* Q4. Given two tables write a SQL Query to join these tables Table1, Table 2 and get the output as shown below"
   ]
  },
  {
   "cell_type": "code",
   "execution_count": null,
   "metadata": {},
   "outputs": [],
   "source": []
  },
  {
   "cell_type": "markdown",
   "metadata": {},
   "source": []
  }
 ],
 "metadata": {
  "interpreter": {
   "hash": "1713f69c0a21f405fcee740ebd7efd02b23dc99c305697ad69253f04bea7d558"
  },
  "kernelspec": {
   "display_name": "Python 3.10.2 64-bit",
   "language": "python",
   "name": "python3"
  },
  "language_info": {
   "codemirror_mode": {
    "name": "ipython",
    "version": 3
   },
   "file_extension": ".py",
   "mimetype": "text/x-python",
   "name": "python",
   "nbconvert_exporter": "python",
   "pygments_lexer": "ipython3",
   "version": "3.10.2"
  },
  "orig_nbformat": 4
 },
 "nbformat": 4,
 "nbformat_minor": 2
}
