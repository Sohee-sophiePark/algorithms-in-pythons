{
 "cells": [
  {
   "cell_type": "markdown",
   "metadata": {},
   "source": [
    "* Bitwise Operator\n",
    "    - &     AND\n",
    "    - |     OR\n",
    "    - ^     XOR\n",
    "    - \\>>   SHIFT TO LEFT\n",
    "    - <<     SHIFT TO RIGHT\n",
    "    - ref. "
   ]
  },
  {
   "cell_type": "code",
   "execution_count": 3,
   "metadata": {},
   "outputs": [
    {
     "name": "stdout",
     "output_type": "stream",
     "text": [
      "10 digit number - 1234\n",
      "res: 1234\n"
     ]
    }
   ],
   "source": [
    "# 10 digit implementation\n",
    "\n",
    "print(\"base 10 digit number - 1234\")\n",
    "\n",
    "\n",
    "decomp = (\n",
    "    (10**0) * 4 +\n",
    "    (10**1) * 3 +\n",
    "    (10**2) * 2 +\n",
    "    (10**3) * 1\n",
    ")\n",
    "\n",
    "print(f\"res: {decomp}\")\n"
   ]
  },
  {
   "cell_type": "code",
   "execution_count": 5,
   "metadata": {},
   "outputs": [
    {
     "name": "stdout",
     "output_type": "stream",
     "text": [
      "13\n"
     ]
    }
   ],
   "source": [
    "# base 2 - binary\n",
    "\n",
    "b1 = 0b1101\n",
    "print(b1)"
   ]
  },
  {
   "cell_type": "code",
   "execution_count": 11,
   "metadata": {},
   "outputs": [
    {
     "name": "stdout",
     "output_type": "stream",
     "text": [
      "203\n",
      "173\n"
     ]
    }
   ],
   "source": [
    "x = 0b11001011 #203\n",
    "y = 0b10101101 #173\n",
    "print(x)\n",
    "print(y)\n",
    "# 0b01100110"
   ]
  },
  {
   "cell_type": "code",
   "execution_count": 12,
   "metadata": {},
   "outputs": [
    {
     "data": {
      "text/plain": [
       "137"
      ]
     },
     "execution_count": 12,
     "metadata": {},
     "output_type": "execute_result"
    }
   ],
   "source": [
    "x & y # AND: both 1\n",
    "# 137"
   ]
  },
  {
   "cell_type": "code",
   "execution_count": 15,
   "metadata": {},
   "outputs": [
    {
     "data": {
      "text/plain": [
       "239"
      ]
     },
     "execution_count": 15,
     "metadata": {},
     "output_type": "execute_result"
    }
   ],
   "source": [
    "x | y # OR: at least one 1"
   ]
  },
  {
   "cell_type": "code",
   "execution_count": 16,
   "metadata": {},
   "outputs": [
    {
     "data": {
      "text/plain": [
       "102"
      ]
     },
     "execution_count": 16,
     "metadata": {},
     "output_type": "execute_result"
    }
   ],
   "source": [
    "x ^ y # XOR: only one 1"
   ]
  },
  {
   "cell_type": "code",
   "execution_count": 20,
   "metadata": {},
   "outputs": [
    {
     "name": "stdout",
     "output_type": "stream",
     "text": [
      "4\n",
      "5\n",
      "1\n"
     ]
    }
   ],
   "source": [
    "# Usecase 1\n",
    "\n",
    "firstChoices = 0b101 # True/False/True\n",
    "secondChoices = 0b100 # True/False/False\n",
    "choices = 0b1010 # Ture/False/True/False\n",
    "\n",
    "bothChoice = firstChoices & secondChoices\n",
    "atLeaseOnetimeChoice = firstChoices | secondChoices\n",
    "onlyOnetimeChoice = firstChoices ^ secondChoices\n",
    "\n",
    "print(bothChoice)\n",
    "print(atLeaseOnetimeChoice)\n",
    "print(onlyOnetimeChoice)\n"
   ]
  },
  {
   "cell_type": "code",
   "execution_count": 21,
   "metadata": {},
   "outputs": [
    {
     "data": {
      "text/plain": [
       "8"
      ]
     },
     "execution_count": 21,
     "metadata": {},
     "output_type": "execute_result"
    }
   ],
   "source": [
    "# bit masking\n",
    "\n",
    "isFirstOneChosen = choices & 0b1000 # if not 0 - chosen\n",
    "isFirstOneChosen"
   ]
  },
  {
   "cell_type": "code",
   "execution_count": 22,
   "metadata": {},
   "outputs": [
    {
     "data": {
      "text/plain": [
       "0"
      ]
     },
     "execution_count": 22,
     "metadata": {},
     "output_type": "execute_result"
    }
   ],
   "source": [
    "isSecondOneChosen = choices & 0b0100\n",
    "isSecondOneChosen"
   ]
  },
  {
   "cell_type": "code",
   "execution_count": 23,
   "metadata": {},
   "outputs": [
    {
     "data": {
      "text/plain": [
       "2"
      ]
     },
     "execution_count": 23,
     "metadata": {},
     "output_type": "execute_result"
    }
   ],
   "source": [
    "isThirdOneChosen = choices & 0b0010\n",
    "isThirdOneChosen"
   ]
  },
  {
   "cell_type": "code",
   "execution_count": 24,
   "metadata": {},
   "outputs": [
    {
     "data": {
      "text/plain": [
       "0"
      ]
     },
     "execution_count": 24,
     "metadata": {},
     "output_type": "execute_result"
    }
   ],
   "source": [
    "isLastOneChosen = choices & 0b0001\n",
    "isLastOneChosen"
   ]
  },
  {
   "cell_type": "code",
   "execution_count": 27,
   "metadata": {},
   "outputs": [
    {
     "name": "stdout",
     "output_type": "stream",
     "text": [
      "0b10011010010\n",
      "0b11001011\n",
      "0b10101101\n"
     ]
    }
   ],
   "source": [
    "# convert into bitwise\n",
    "print(bin(1234))\n",
    "print(bin(x))\n",
    "print(bin(y))"
   ]
  },
  {
   "cell_type": "code",
   "execution_count": 31,
   "metadata": {},
   "outputs": [
    {
     "name": "stdout",
     "output_type": "stream",
     "text": [
      "x : 203, ~x: -204\n",
      "-1234: -1234, ~-1234: 1233\n"
     ]
    }
   ],
   "source": [
    "# tilde ~: IS NOT bitwise not -> Switched and down by 1\n",
    "print(f\"x : {x}, ~x: {~x}\") # 203 -> -204\n",
    "print(f\"-1234: {-1234}, ~-1234: {~-1234}\") #-1234 -> 1233\n",
    "\n",
    "\n",
    "# python integer default signed - so this returns unsigned value down 1"
   ]
  },
  {
   "cell_type": "code",
   "execution_count": 37,
   "metadata": {},
   "outputs": [
    {
     "name": "stdout",
     "output_type": "stream",
     "text": [
      "406\n",
      "0b11001011\n",
      "0b110010110\n"
     ]
    }
   ],
   "source": [
    "#\n",
    "print(x << 1)\n",
    "print(bin(x)) # 11001011\n",
    "print(bin(x << 1)) # 110010110"
   ]
  },
  {
   "cell_type": "code",
   "execution_count": 38,
   "metadata": {},
   "outputs": [
    {
     "name": "stdout",
     "output_type": "stream",
     "text": [
      "0b11001011\n",
      "0b1100101\n"
     ]
    }
   ],
   "source": [
    "#\n",
    "print(bin(x)) # 11001011\n",
    "print(bin(x >> 1)) # 1100101\n",
    "\n"
   ]
  },
  {
   "cell_type": "code",
   "execution_count": 42,
   "metadata": {},
   "outputs": [
    {
     "name": "stdout",
     "output_type": "stream",
     "text": [
      "0b11001011\n",
      "0b110010110\n",
      "0b1100101100\n",
      "0b11001011000\n"
     ]
    }
   ],
   "source": [
    "# shift bit to left\n",
    "print(bin(x)) # 11001011\n",
    "print(bin(x << 1)) # 110010110\n",
    "print(bin(x << 2)) # 1100101100\n",
    "print(bin(x << 3)) # 11001011000\n"
   ]
  },
  {
   "cell_type": "code",
   "execution_count": 44,
   "metadata": {},
   "outputs": [
    {
     "name": "stdout",
     "output_type": "stream",
     "text": [
      "0b11001011\n",
      "0b1100101\n",
      "0b110010\n",
      "0b11001\n"
     ]
    }
   ],
   "source": [
    "# bit shift to right\n",
    "print(bin(x)) # 11001011\n",
    "print(bin(x >> 1)) # 110010110\n",
    "print(bin(x >> 2)) # 1100101100\n",
    "print(bin(x >> 3)) # 11001011000"
   ]
  },
  {
   "cell_type": "code",
   "execution_count": 45,
   "metadata": {},
   "outputs": [
    {
     "data": {
      "text/plain": [
       "4"
      ]
     },
     "execution_count": 45,
     "metadata": {},
     "output_type": "execute_result"
    }
   ],
   "source": [
    "6&4"
   ]
  },
  {
   "cell_type": "code",
   "execution_count": 46,
   "metadata": {},
   "outputs": [
    {
     "data": {
      "text/plain": [
       "6"
      ]
     },
     "execution_count": 46,
     "metadata": {},
     "output_type": "execute_result"
    }
   ],
   "source": [
    "6|4"
   ]
  },
  {
   "cell_type": "code",
   "execution_count": 47,
   "metadata": {},
   "outputs": [
    {
     "data": {
      "text/plain": [
       "2"
      ]
     },
     "execution_count": 47,
     "metadata": {},
     "output_type": "execute_result"
    }
   ],
   "source": [
    "6^4"
   ]
  },
  {
   "cell_type": "code",
   "execution_count": 48,
   "metadata": {},
   "outputs": [
    {
     "data": {
      "text/plain": [
       "3"
      ]
     },
     "execution_count": 48,
     "metadata": {},
     "output_type": "execute_result"
    }
   ],
   "source": [
    "6 >> 1"
   ]
  },
  {
   "cell_type": "code",
   "execution_count": 49,
   "metadata": {},
   "outputs": [
    {
     "data": {
      "text/plain": [
       "12"
      ]
     },
     "execution_count": 49,
     "metadata": {},
     "output_type": "execute_result"
    }
   ],
   "source": [
    "6 << 1"
   ]
  },
  {
   "cell_type": "code",
   "execution_count": null,
   "metadata": {},
   "outputs": [],
   "source": []
  }
 ],
 "metadata": {
  "interpreter": {
   "hash": "afe6c377662d3cf3baae407810cc6015126ebe0984753d811cf9a813dcbd161d"
  },
  "kernelspec": {
   "display_name": "Python 3.10.2 64-bit",
   "language": "python",
   "name": "python3"
  },
  "language_info": {
   "codemirror_mode": {
    "name": "ipython",
    "version": 3
   },
   "file_extension": ".py",
   "mimetype": "text/x-python",
   "name": "python",
   "nbconvert_exporter": "python",
   "pygments_lexer": "ipython3",
   "version": "3.10.2"
  },
  "orig_nbformat": 4
 },
 "nbformat": 4,
 "nbformat_minor": 2
}
