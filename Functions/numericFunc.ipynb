{
 "cells": [
  {
   "cell_type": "code",
   "execution_count": 1,
   "metadata": {},
   "outputs": [
    {
     "data": {
      "text/plain": [
       "0.1456"
      ]
     },
     "execution_count": 1,
     "metadata": {},
     "output_type": "execute_result"
    }
   ],
   "source": [
    "# absolute value\n",
    "abs(-.1456)"
   ]
  },
  {
   "cell_type": "code",
   "execution_count": 6,
   "metadata": {},
   "outputs": [
    {
     "data": {
      "text/plain": [
       "2"
      ]
     },
     "execution_count": 6,
     "metadata": {},
     "output_type": "execute_result"
    }
   ],
   "source": [
    "# ceiling\n",
    "import math\n",
    "\n",
    "math.ceil(2.85) # 3 - ceiling to integer\n",
    "math.ceil(2.34) # 3\n",
    "math.floor(2.1234) # 2 - floor to integer"
   ]
  },
  {
   "cell_type": "code",
   "execution_count": 14,
   "metadata": {},
   "outputs": [
    {
     "name": "stdout",
     "output_type": "stream",
     "text": [
      "2.5: 2\n",
      "3.5: 4\n",
      "4.5: 4\n",
      "5.5: 6\n",
      "6.5: 6\n",
      "7.5: 8\n",
      "8.5: 8\n"
     ]
    }
   ],
   "source": [
    "# round\n",
    "\n",
    "round(1.234, 2) # 1.23\n",
    "round(1.235, 2) # 1.24 \n",
    "\n",
    "# python running startegiy\n",
    "# even_number round down for 5\n",
    "# odd_number round up for 5\n",
    "\n",
    "# whole number part\n",
    "print(f\"2.5: {round(2.5)}\") #2\n",
    "print(f\"3.5: {round(3.5)}\") #3\n",
    "print(f\"4.5: {round(4.5)}\") #2\n",
    "print(f\"5.5: {round(5.5)}\") #3\n",
    "print(f\"6.5: {round(6.5)}\") #2\n",
    "print(f\"7.5: {round(7.5)}\") #3\n",
    "print(f\"8.5: {round(8.5)}\") #3\n"
   ]
  },
  {
   "cell_type": "code",
   "execution_count": 16,
   "metadata": {},
   "outputs": [
    {
     "name": "stdout",
     "output_type": "stream",
     "text": [
      "2.15: 2.1\n",
      "3.25: 3.2\n",
      "4.35: 4.3\n",
      "5.45: 5.5\n"
     ]
    }
   ],
   "source": [
    "# decimal part\n",
    "print(f\"2.15: {round(2.15, 1)}\") #2\n",
    "print(f\"3.25: {round(3.25, 1)}\") #3\n",
    "print(f\"4.35: {round(4.35, 1)}\") #2\n",
    "print(f\"5.45: {round(5.45, 1)}\") #3\n"
   ]
  },
  {
   "cell_type": "code",
   "execution_count": null,
   "metadata": {},
   "outputs": [],
   "source": [
    "# Method decimal \n",
    "import decimal\n",
    "\n",
    "from decimal import Decimal\n",
    "\n",
    "\n"
   ]
  },
  {
   "cell_type": "code",
   "execution_count": 20,
   "metadata": {},
   "outputs": [
    {
     "name": "stdout",
     "output_type": "stream",
     "text": [
      "<class 'int'>\n",
      "<class 'str'>\n"
     ]
    }
   ],
   "source": [
    "# interconvert integers/floats and strings\n",
    "\n",
    "print(type(int('1234'))) #int\n",
    "print(type(str(1234))) #str"
   ]
  },
  {
   "cell_type": "code",
   "execution_count": 21,
   "metadata": {},
   "outputs": [
    {
     "data": {
      "text/plain": [
       "-inf"
      ]
     },
     "execution_count": 21,
     "metadata": {},
     "output_type": "execute_result"
    }
   ],
   "source": [
    "# floats are not infinite precision\n",
    "\n",
    "float('inf') # pos inf\n",
    "float('-inf') # neg inf"
   ]
  },
  {
   "cell_type": "code",
   "execution_count": 30,
   "metadata": {},
   "outputs": [
    {
     "data": {
      "text/plain": [
       "False"
      ]
     },
     "execution_count": 30,
     "metadata": {},
     "output_type": "execute_result"
    }
   ],
   "source": [
    "1 < math.inf # True\n",
    "1 > math.inf # False\n",
    "-99 > -(math.inf) # True\n",
    "-99 < -(math.inf) # False"
   ]
  },
  {
   "cell_type": "code",
   "execution_count": 36,
   "metadata": {},
   "outputs": [
    {
     "data": {
      "text/plain": [
       "Decimal('-1.234')"
      ]
     },
     "execution_count": 36,
     "metadata": {},
     "output_type": "execute_result"
    }
   ],
   "source": [
    "from decimal import Decimal\n",
    "Decimal('-1.234589').quantize(Decimal('1.000'), rounding='ROUND_DOWN') # set decimal point # rounding method # -1.234"
   ]
  }
 ],
 "metadata": {
  "language_info": {
   "name": "python"
  },
  "orig_nbformat": 4
 },
 "nbformat": 4,
 "nbformat_minor": 2
}
