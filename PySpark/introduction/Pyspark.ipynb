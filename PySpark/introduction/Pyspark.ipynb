{
 "cells": [
  {
   "cell_type": "markdown",
   "metadata": {},
   "source": [
    "# Spark\n",
    "a platform for cluster computing - spread data and computations over clusters with multiple nodes for parallele processingof big data\n",
    "- each node works on its own subset of the wholed data\n",
    "- a parallel computation can make certain types of programming tasks faster\n"
   ]
  },
  {
   "cell_type": "markdown",
   "metadata": {},
   "source": [
    "### Connecting to a cluster\n",
    "    - Cluster will be hosted on remote machine that is connecting to all other nodes\n",
    "    - master manages splitting up data and computations\n",
    "    - worker - all the rest of computers connecting to master\n",
    "    - master sends the workers data and calculations and the workers return the output results to master\n",
    "    - can run a cluster locally\n",
    "    - creating an instance of SparkContext - creating the connection\n",
    "    - Class constructor takes arguments that allow to specify the attributes of cluster \n",
    "    - creating attributes of objet - SparkConf()\n"
   ]
  },
  {
   "cell_type": "markdown",
   "metadata": {},
   "source": [
    "### DataFrames\n",
    "- Core data structure: RDD Resilient Distributed Dataset - low level\n",
    "- DataFrame built on top of RDDs\n",
    "- Tabular\n",
    "- Automatically optimized\n",
    "- SparkSession -> SparkContext - connection to cluster and SparkSession (Pointer/reference)\n"
   ]
  },
  {
   "cell_type": "code",
   "execution_count": 1,
   "metadata": {},
   "outputs": [
    {
     "ename": "ModuleNotFoundError",
     "evalue": "No module named 'pyspark'",
     "output_type": "error",
     "traceback": [
      "\u001b[1;31m---------------------------------------------------------------------------\u001b[0m",
      "\u001b[1;31mModuleNotFoundError\u001b[0m                       Traceback (most recent call last)",
      "\u001b[1;32mc:\\Users\\sohee.park\\Documents\\S.park\\Learning\\Algo\\algorithms-in-pythons\\PySpark\\introduction\\Pyspark.ipynb Cell 4'\u001b[0m in \u001b[0;36m<cell line: 1>\u001b[1;34m()\u001b[0m\n\u001b[1;32m----> <a href='vscode-notebook-cell:/c%3A/Users/sohee.park/Documents/S.park/Learning/Algo/algorithms-in-pythons/PySpark/introduction/Pyspark.ipynb#ch0000000?line=0'>1</a>\u001b[0m \u001b[39mfrom\u001b[39;00m \u001b[39mpyspark\u001b[39;00m\u001b[39m.\u001b[39;00m\u001b[39msql\u001b[39;00m \u001b[39mimport\u001b[39;00m Sparksession\n\u001b[0;32m      <a href='vscode-notebook-cell:/c%3A/Users/sohee.park/Documents/S.park/Learning/Algo/algorithms-in-pythons/PySpark/introduction/Pyspark.ipynb#ch0000000?line=2'>3</a>\u001b[0m spark \u001b[39m=\u001b[39m Sparksession\u001b[39m.\u001b[39mbuilder\u001b[39m.\u001b[39mgetOrCreate()\n",
      "\u001b[1;31mModuleNotFoundError\u001b[0m: No module named 'pyspark'"
     ]
    }
   ],
   "source": [
    "from pyspark.sql import Sparksession\n",
    "import pandas as pd\n",
    "\n",
    "spark = SparkSession.builder.getOrCreate()\n",
    "\n"
   ]
  },
  {
   "cell_type": "markdown",
   "metadata": {},
   "source": [
    "### Catalog\n",
    "- SparkSession has an attribute called catalog - lists all data inside cluster\n",
    "- method for extracting information"
   ]
  },
  {
   "cell_type": "markdown",
   "metadata": {},
   "source": [
    "spark.catalog.listTables()"
   ]
  },
  {
   "cell_type": "code",
   "execution_count": null,
   "metadata": {},
   "outputs": [],
   "source": [
    "query = \"FROM flights SELECT * LIMIT 10\"\n",
    "sqlQueryTable = spark.sql(query)\n",
    "sqlQueryTable.show()"
   ]
  },
  {
   "cell_type": "markdown",
   "metadata": {},
   "source": [
    "### Converting to DataFrame\n",
    "- Converting to Pandas DataFrame\n",
    "- converting to PySpark DataFrame"
   ]
  },
  {
   "cell_type": "markdown",
   "metadata": {},
   "source": [
    "pdDf = spark.sql(query).toPandas() #\n",
    "sparkDf = spark.createDataFrame(pdDf)\n",
    "csvDf = spark.read.csv(filePath, header=True)\n"
   ]
  },
  {
   "cell_type": "code",
   "execution_count": null,
   "metadata": {},
   "outputs": [],
   "source": [
    "pdDf = spark.sql(query).toPandas() # pandas df\n",
    "sparkDf = spark.createDataFrame(pdDf) # pandas df -> spark df\n",
    "print(spark.catalog.listTables())\n",
    "sparkTempView = sparkDf.createOrReplaceTempView(\"tmpView\")\n",
    "print(spark.catalog.listTables())"
   ]
  },
  {
   "cell_type": "code",
   "execution_count": 3,
   "metadata": {},
   "outputs": [
    {
     "name": "stdout",
     "output_type": "stream",
     "text": [
      "31\n"
     ]
    }
   ],
   "source": [
    "b = 30 # global var\n",
    "def func(a, b=b):\n",
    "    return a + b\n",
    "\n",
    "\n",
    "print(func(1))"
   ]
  },
  {
   "cell_type": "code",
   "execution_count": null,
   "metadata": {},
   "outputs": [],
   "source": []
  }
 ],
 "metadata": {
  "interpreter": {
   "hash": "afe6c377662d3cf3baae407810cc6015126ebe0984753d811cf9a813dcbd161d"
  },
  "kernelspec": {
   "display_name": "Python 3.10.2 64-bit",
   "language": "python",
   "name": "python3"
  },
  "language_info": {
   "codemirror_mode": {
    "name": "ipython",
    "version": 3
   },
   "file_extension": ".py",
   "mimetype": "text/x-python",
   "name": "python",
   "nbconvert_exporter": "python",
   "pygments_lexer": "ipython3",
   "version": "3.10.2"
  },
  "orig_nbformat": 4
 },
 "nbformat": 4,
 "nbformat_minor": 2
}
