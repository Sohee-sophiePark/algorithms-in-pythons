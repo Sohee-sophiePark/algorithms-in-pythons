{
 "cells": [
  {
   "cell_type": "markdown",
   "metadata": {},
   "source": [
    "Stack Usecases\n",
    "- web browser history - go back to the previous web page\n",
    "- LIFO Last In First Out\n"
   ]
  },
  {
   "cell_type": "code",
   "execution_count": null,
   "metadata": {},
   "outputs": [],
   "source": [
    "from collections import deque\n",
    "\n",
    "class Stack:\n",
    "    \n",
    "    def __init__(self):\n",
    "        self.queue = deque()\n",
    "\n",
    "    def push(self, data):\n",
    "        self.queue.append(data)\n",
    "\n",
    "    def pop(self. data):\n",
    "        self.queue.pop()\n",
    "\n",
    "    \n",
    "\n",
    "        \n",
    "\n"
   ]
  }
 ],
 "metadata": {
  "language_info": {
   "name": "python"
  },
  "orig_nbformat": 4
 },
 "nbformat": 4,
 "nbformat_minor": 2
}
