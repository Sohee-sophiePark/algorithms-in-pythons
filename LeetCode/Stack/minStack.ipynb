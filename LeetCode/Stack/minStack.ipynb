{
 "cells": [
  {
   "cell_type": "markdown",
   "metadata": {},
   "source": [
    "# 155. Min Stack\n",
    "- Difficulty: Easy\n",
    "\n",
    "- Design a stack that supports push, pop, top and retrieving the minimum element in constant time.\n",
    "\n",
    "-  all the operation must be done in constant time\n",
    "\n",
    "* MinStack() initialize the stack object\n",
    "* void push(val) pushes the element val onto the stack\n",
    "* void pop() removes the element on the top of stack\n",
    "* int top() gets the top element of the stack\n",
    "* int getMin() retrieves the minimum element in stack"
   ]
  },
  {
   "cell_type": "code",
   "execution_count": 24,
   "metadata": {},
   "outputs": [],
   "source": [
    "from collections import deque\n",
    "\n",
    "class MinStack:\n",
    "    def __init__(self):\n",
    "        self.stack = []\n",
    "        self.min = None\n",
    "\n",
    "    def push(self, val):\n",
    "        if len(self.stack) == 0 or self.min > val:\n",
    "            self.min = val\n",
    "\n",
    "        self.stack.append(val)\n",
    "\n",
    "    def pop(self):\n",
    "        pop = self.stack[len(self.stack)-1]\n",
    "        self.stack = self.stack[:len(self.stack)-1]\n",
    "        if pop == self.min:\n",
    "            self.min = None\n",
    "            for el in self.stack:\n",
    "                if self.min == None or el < self.min:\n",
    "                    self.min = el\n",
    "                    \n",
    "        return pop        \n",
    "\n",
    "    # def getMin(self):\n",
    "    #     val = None\n",
    "    #     for el in self.stack:\n",
    "    #         if val == None or val > el:\n",
    "    #             val = el\n",
    "    #     return val\n",
    "\n",
    "    def getMin(self):\n",
    "        return self.min\n",
    "\n",
    "    def top(self):\n",
    "        val = None\n",
    "        for el in self.stack:\n",
    "            if val == None or val < el:\n",
    "                val = el\n",
    "        return val\n",
    "\n",
    "    "
   ]
  },
  {
   "cell_type": "code",
   "execution_count": 26,
   "metadata": {},
   "outputs": [
    {
     "name": "stdout",
     "output_type": "stream",
     "text": [
      "-3\n",
      "0\n",
      "-100\n",
      "[-2, 0, -100]\n",
      "-100\n"
     ]
    }
   ],
   "source": [
    "ms = MinStack()\n",
    "ms.push(-2)\n",
    "ms.push(0)\n",
    "ms.push(-3)\n",
    "ms.getMin()\n",
    "print(ms.pop())\n",
    "ms.getMin()\n",
    "ms.push(-100)\n",
    "print(ms.top())\n",
    "print(ms.getMin())\n",
    "print(ms.stack)\n",
    "\n"
   ]
  },
  {
   "cell_type": "code",
   "execution_count": 54,
   "metadata": {},
   "outputs": [],
   "source": [
    "class MinStack2:\n",
    "    def __init__(self):\n",
    "        self.stack = []\n",
    "        self.minStack = [] #every min for every stack \n",
    "\n",
    "    def push(self, val):\n",
    "        self.stack.append(val)\n",
    "        if len(self.minStack) > 0:\n",
    "            minVal = min(val, self.minStack[-1])\n",
    "        else:\n",
    "            minVal = val\n",
    "        self.minStack.append(minVal)\n",
    "\n",
    "    def pop(self) :\n",
    "        self.stack.pop()\n",
    "        self.minStack.pop()\n",
    "\n",
    "    def top(self):\n",
    "        return self.stack[-1]\n",
    "\n",
    "    def getMin(self):\n",
    "        return self.minStack[-1]"
   ]
  },
  {
   "cell_type": "code",
   "execution_count": 55,
   "metadata": {},
   "outputs": [
    {
     "name": "stdout",
     "output_type": "stream",
     "text": [
      "-100\n",
      "-100\n",
      "-100\n",
      "[-2, 0, -3, -100]\n"
     ]
    }
   ],
   "source": [
    "ms2 = MinStack2()\n",
    "ms2.push(-2)\n",
    "ms2.push(0)\n",
    "ms2.push(-3)\n",
    "ms2.getMin()\n",
    "print(ms.pop())\n",
    "ms2.getMin()\n",
    "ms2.push(-100)\n",
    "print(ms2.top())\n",
    "print(ms2.getMin())\n",
    "print(ms2.stack)"
   ]
  },
  {
   "cell_type": "code",
   "execution_count": null,
   "metadata": {},
   "outputs": [],
   "source": []
  },
  {
   "cell_type": "code",
   "execution_count": null,
   "metadata": {},
   "outputs": [],
   "source": []
  }
 ],
 "metadata": {
  "interpreter": {
   "hash": "1713f69c0a21f405fcee740ebd7efd02b23dc99c305697ad69253f04bea7d558"
  },
  "kernelspec": {
   "display_name": "Python 3.10.2 64-bit",
   "language": "python",
   "name": "python3"
  },
  "language_info": {
   "codemirror_mode": {
    "name": "ipython",
    "version": 3
   },
   "file_extension": ".py",
   "mimetype": "text/x-python",
   "name": "python",
   "nbconvert_exporter": "python",
   "pygments_lexer": "ipython3",
   "version": "3.10.2"
  },
  "orig_nbformat": 4
 },
 "nbformat": 4,
 "nbformat_minor": 2
}
