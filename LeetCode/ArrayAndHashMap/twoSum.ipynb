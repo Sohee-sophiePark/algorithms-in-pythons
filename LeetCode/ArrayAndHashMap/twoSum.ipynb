{
 "cells": [
  {
   "cell_type": "markdown",
   "metadata": {},
   "source": [
    "# 1. Two Sum\n",
    "\n",
    "    - Difficulty: Easy\n",
    "    - Given an array of integers nums and an integer target, return indices of the two numbers such that they add up to target\n",
    "    - You may assume that each input would have exactly one solution, and you may not use the same element twice.\n",
    "\n",
    "    "
   ]
  },
  {
   "cell_type": "code",
   "execution_count": null,
   "metadata": {},
   "outputs": [],
   "source": [
    "class Solution:\n",
    "    def twoSum(self, nums: List[int], target: int) -> List[int]:\n",
    "        if nums is None:\n",
    "            return None\n",
    "\n",
    "        d = {}\n",
    "        for idx in range(len(nums)):\n",
    "            if nums[idx] in d:\n",
    "                return [d[nums[idx]], idx]\n",
    "\n",
    "            d[target-nums[idx]] = idx\n",
    "        \n",
    "\n",
    "        return None\n",
    "            \n"
   ]
  },
  {
   "cell_type": "markdown",
   "metadata": {},
   "source": [
    "Runtime: 80 ms, faster than 68.98% of Python3 online submissions for Two Sum."
   ]
  }
 ],
 "metadata": {
  "language_info": {
   "name": "python"
  },
  "orig_nbformat": 4
 },
 "nbformat": 4,
 "nbformat_minor": 2
}
