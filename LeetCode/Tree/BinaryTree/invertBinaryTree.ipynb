{
 "cells": [
  {
   "cell_type": "markdown",
   "metadata": {},
   "source": [
    "# 226. Invert Binary Tree\n",
    "\n",
    "    - Difficulty: Easy\n",
    "    - Given the root of a binary tree, invert the tree, and return its root.\n",
    "    - input: root = [4, 2, 7, 1, 3, 6, 9]\n",
    "    - output: [4, 7, 2, 9, 6, 3, 1]"
   ]
  },
  {
   "cell_type": "code",
   "execution_count": 1,
   "metadata": {},
   "outputs": [],
   "source": [
    "# Definition for a binary tree node\n",
    "\n",
    "class TreeNode:\n",
    "    def __init__(self, val=0, left=None, right=None):\n",
    "        self.val = val\n",
    "        self.left = left\n",
    "        self.right = right"
   ]
  },
  {
   "cell_type": "code",
   "execution_count": null,
   "metadata": {},
   "outputs": [],
   "source": [
    "class Solution:\n",
    "    def invertTree(self, root: Optional[TreeNode]) -> Optional[TreeNode]:\n",
    "        # code below:\n",
    "\n",
    "        if root is None:\n",
    "            return None\n",
    "        \n",
    "        def invertNode(node):\n",
    "            if node.left and node.right:\n",
    "                left = node.left\n",
    "                right = node.right\n",
    "                node.right = left\n",
    "                node.left = right\n",
    "\n",
    "            elif node.left:\n",
    "                node.right = node.left\n",
    "                node.left = None\n",
    "\n",
    "            \n",
    "            elif node.right:\n",
    "                node.left = node.right\n",
    "                node.right = None\n",
    "\n",
    "            else:\n",
    "                node.left = None\n",
    "                node.right = None\n",
    "\n",
    "            return node\n",
    "            \n",
    "        \n",
    "        if root.left:\n",
    "            root.left = self.invertTree(root.left)\n",
    "\n",
    "        if root.right:\n",
    "            root.right = self.invertTree(root.right)\n",
    "\n",
    "        \n",
    "        root = invertNode(root)\n",
    "\n",
    "        return root\n",
    "\n",
    "\n",
    "\n"
   ]
  },
  {
   "cell_type": "markdown",
   "metadata": {},
   "source": [
    "Runtime: 34 ms, faster than 76.83% of Python3 online submissions for Invert Binary Tree.\n",
    "Memory Usage: 13.9 MB, less than 58.92% of Python3 online submissions for Invert Binary Tree."
   ]
  }
 ],
 "metadata": {
  "interpreter": {
   "hash": "1713f69c0a21f405fcee740ebd7efd02b23dc99c305697ad69253f04bea7d558"
  },
  "kernelspec": {
   "display_name": "Python 3.10.2 64-bit",
   "language": "python",
   "name": "python3"
  },
  "language_info": {
   "codemirror_mode": {
    "name": "ipython",
    "version": 3
   },
   "file_extension": ".py",
   "mimetype": "text/x-python",
   "name": "python",
   "nbconvert_exporter": "python",
   "pygments_lexer": "ipython3",
   "version": "3.10.2"
  },
  "orig_nbformat": 4
 },
 "nbformat": 4,
 "nbformat_minor": 2
}
