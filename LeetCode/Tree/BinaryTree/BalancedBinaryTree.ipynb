{
 "cells": [
  {
   "cell_type": "markdown",
   "metadata": {},
   "source": [
    "# 110. Balanced Binary Tree\n",
    "- Difficulty: Easy\n",
    "\n",
    "- Gien a binary tree, determine if it is height-balanced.\n",
    "\n",
    "For this problem, a height-balanced binary tree is defined as:\n",
    "-> a binary tree in which the left and right subtrees fo every node differ in height by no more than 1\n",
    "\n"
   ]
  },
  {
   "cell_type": "code",
   "execution_count": null,
   "metadata": {},
   "outputs": [],
   "source": [
    "def isBalancedBinaryTree(node):\n",
    "    isBalanced = True\n",
    "    rHeight = 0\n",
    "    lHeight = 0\n",
    "\n",
    "    if node is None:\n",
    "        return\n",
    "    \n",
    "    while node.right:\n",
    "        rHeight += 1\n",
    "    \n",
    "    while node.left:\n",
    "        lHeight += 1\n",
    "\n",
    "    if abs(rHeight-lHeight) > 1:\n",
    "        isBalanced = False\n",
    "\n",
    "    return isBalanced\n",
    "\n"
   ]
  }
 ],
 "metadata": {
  "language_info": {
   "name": "python"
  },
  "orig_nbformat": 4
 },
 "nbformat": 4,
 "nbformat_minor": 2
}
