{
 "cells": [
  {
   "cell_type": "markdown",
   "metadata": {},
   "source": [
    "# 104. Maximum Depth of Binary Tree\n",
    "\n",
    "    - Difficulty: Easy\n",
    "    - Given the root of a binary tree, return its maximum depth\n",
    "    - A binary tree's maximum depth is the number of nodes along the longest path from the root node down to the farthest leaf node.\n",
    "\n",
    "    - Input: root = [3, 9, 20, null, null, 15, 7]\n",
    "    - output: 3\n",
    "\n",
    "    - input: root = [1, null, 2]\n",
    "    - output: 2"
   ]
  },
  {
   "cell_type": "code",
   "execution_count": 1,
   "metadata": {},
   "outputs": [],
   "source": [
    "# Definition of a binary tree node\n",
    "\n",
    "class TreeNode:\n",
    "    def __init__(self, val=0, left=None, right=None):\n",
    "        self.val = val\n",
    "        self.left = left\n",
    "        self.right = right"
   ]
  },
  {
   "cell_type": "code",
   "execution_count": null,
   "metadata": {},
   "outputs": [],
   "source": [
    "class Solution:\n",
    "    def maxDepth(self, root: Optional[TreeNode]) -> int:\n",
    "        depth = 0\n",
    "\n",
    "        if root is None:\n",
    "            return 0\n",
    "\n",
    "        if root.left and root.right:\n",
    "            depth = max(self.maxDepth(root.left), self.maxDepth(root.right)) + 1\n",
    "        elif root.left:\n",
    "            depth = max(self.maxDepth(root.left)) + 1\n",
    "        elif root.right:\n",
    "            depth = max(self.maxDepth(self.right)) + 1\n",
    "        else:\n",
    "            depth += 1\n",
    "\n",
    "        return depth\n",
    "              \n"
   ]
  },
  {
   "cell_type": "markdown",
   "metadata": {},
   "source": [
    "Runtime: 51 ms, faster than 62.86% of Python3 online submissions for Maximum Depth of Binary Tree.\n",
    "Memory Usage: 16.3 MB, less than 58.42% of Python3 online submissions for Maximum Depth of Binary Tree."
   ]
  },
  {
   "cell_type": "markdown",
   "metadata": {},
   "source": [
    "### deque counting"
   ]
  },
  {
   "cell_type": "code",
   "execution_count": null,
   "metadata": {},
   "outputs": [],
   "source": [
    "class Solution:\n",
    "    def maxDepth(self, root: Optional[TreeNode]) -> int:\n",
    "        if not root:\n",
    "            return 0\n",
    "        level = 0\n",
    "        q = deque([root])\n",
    "        \n",
    "        while q:\n",
    "            for count in range(len(q)):\n",
    "                node = q.popleft()\n",
    "                if node.left:\n",
    "                    q.append(node.left)\n",
    "                if node.right:\n",
    "                    q.append(node.right)\n",
    "            level += 1\n",
    "        return level"
   ]
  }
 ],
 "metadata": {
  "interpreter": {
   "hash": "1713f69c0a21f405fcee740ebd7efd02b23dc99c305697ad69253f04bea7d558"
  },
  "kernelspec": {
   "display_name": "Python 3.10.2 64-bit",
   "language": "python",
   "name": "python3"
  },
  "language_info": {
   "codemirror_mode": {
    "name": "ipython",
    "version": 3
   },
   "file_extension": ".py",
   "mimetype": "text/x-python",
   "name": "python",
   "nbconvert_exporter": "python",
   "pygments_lexer": "ipython3",
   "version": "3.10.2"
  },
  "orig_nbformat": 4
 },
 "nbformat": 4,
 "nbformat_minor": 2
}
