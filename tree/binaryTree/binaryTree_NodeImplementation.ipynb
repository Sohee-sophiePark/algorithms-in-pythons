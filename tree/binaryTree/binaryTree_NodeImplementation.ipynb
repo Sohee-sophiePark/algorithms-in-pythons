{
 "cells": [
  {
   "cell_type": "markdown",
   "metadata": {},
   "source": [
    "* Binary Tree\n",
    "- Hierarchical Structure\n",
    "- Root: Top node without a parent node\n",
    "- Parent: Directly above the current node\n",
    "- Child/Children: Directly below the currnet node at most 2 Nodes \n",
    "- Leaves: Bottom node without any child\n"
   ]
  },
  {
   "cell_type": "markdown",
   "metadata": {},
   "source": [
    "Python Impementation - define Node class with initiation of properties / create instance / link child nodes"
   ]
  },
  {
   "cell_type": "code",
   "execution_count": 38,
   "metadata": {},
   "outputs": [],
   "source": [
    "class Node:\n",
    "    def __init__(self, val):\n",
    "        self.left = None\n",
    "        self.right = None\n",
    "        self.value = val"
   ]
  },
  {
   "cell_type": "code",
   "execution_count": 43,
   "metadata": {},
   "outputs": [],
   "source": [
    "root = Node(1)\n",
    "root.left = Node(2)\n",
    "root.right = Node(3)\n",
    "root.left.left = Node(4)\n",
    "root.left.left.right = Node(5)"
   ]
  },
  {
   "cell_type": "code",
   "execution_count": 45,
   "metadata": {},
   "outputs": [],
   "source": [
    "def get_tree_values(root): #pre \n",
    "\n",
    "    values = []\n",
    "    if root.value == None:\n",
    "        return\n",
    "    else:\n",
    "        values.append(root.value)\n",
    "    if root.left:\n",
    "        # root = root.left\n",
    "        values.extend(get_tree_values(root.left))\n",
    "        # values.extend(get_tree_values(root.left))\n",
    "\n",
    "    if root.right:\n",
    "        # root = root.right\n",
    "        values.extend(get_tree_values(root.right))\n",
    "\n",
    "        # values.extend(get_tree_values(root.right))\n",
    "    \n",
    "    return values\n"
   ]
  },
  {
   "cell_type": "code",
   "execution_count": 46,
   "metadata": {},
   "outputs": [
    {
     "name": "stdout",
     "output_type": "stream",
     "text": [
      "[1, 2, 4, 5, 3]\n"
     ]
    }
   ],
   "source": [
    "print(get_tree_values(root)) #preorder traversal\n"
   ]
  }
 ],
 "metadata": {
  "interpreter": {
   "hash": "1713f69c0a21f405fcee740ebd7efd02b23dc99c305697ad69253f04bea7d558"
  },
  "kernelspec": {
   "display_name": "Python 3.10.2 64-bit",
   "language": "python",
   "name": "python3"
  },
  "language_info": {
   "codemirror_mode": {
    "name": "ipython",
    "version": 3
   },
   "file_extension": ".py",
   "mimetype": "text/x-python",
   "name": "python",
   "nbconvert_exporter": "python",
   "pygments_lexer": "ipython3",
   "version": "3.10.2"
  },
  "orig_nbformat": 4
 },
 "nbformat": 4,
 "nbformat_minor": 2
}
