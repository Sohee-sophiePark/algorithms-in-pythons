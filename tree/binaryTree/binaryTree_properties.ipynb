{
 "cells": [
  {
   "cell_type": "markdown",
   "metadata": {},
   "source": [
    "* Binary Tree Properties\n",
    "\n",
    "1. Maximum # of Nodes at Level\n",
    "    - $2^l$\n",
    "    - e.g. root $2^0 = 1$\n",
    "2. Maximum # of Nodes in BT of certain Height\n",
    "    - when rootHeight = 1, $2^{h}-1$\n",
    "    - when rootLevel = 0, $2^{l+1}-1$\n",
    "\n",
    "3. Binary Tree with N nodes - Minimum Possilbe Height / Level\n",
    "    - when rootHeight = 1,  $|\\log_2 (N+1)|$\n",
    "    - when rootLevel = 0,  $|\\log_2 (N+1)|-1$\n",
    "\n",
    "4. Binary Tree with L Leaves has at lest \n",
    "    - when rootHeight = 1,  $|\\log_2 L|+1$\n",
    "    - when rootLevel = 0,  $|\\log_2 L|$\n",
    "\n",
    "5. Binary Tree every node with 0 or 2 only - The # of leaf nodes is one more than nodes with two children\n",
    "    - when L = # of leaves\n",
    "    - when T = # of internal nodes with 2 children \n",
    "    - $L=2^{h-1}$\n",
    "    - T = Total Number of Nodes - Leave Nodes\n",
    "    - $T=(2^{h}-1)-(2^{h-1})$\n",
    "    - $(2*2^{h-1}-1)-(2^{h-1})$\n",
    "    - $T=2^{h-1}-1$\n",
    "    - T=L-1\n",
    "    "
   ]
  },
  {
   "cell_type": "markdown",
   "metadata": {},
   "source": [
    "* Tree Types\n",
    "1. Full Binary Tree\n",
    "    - Every node has 0 or 2 children\n",
    "2. Complete Binary Tree\n",
    "    - Every level is filled with nodes\n",
    "    - except for the last level can we not fully filled\n",
    "3. Perfect Binary Truee\n",
    "    - Every node has two children\n",
    "    - All leaves are at the same level\n",
    "    - '# of Leaves = # of all internal Nodes\n",
    "4. Balanced Binary Tree\n",
    "    - Balned in the height of Tree\n",
    "    - when # of nodes = n, $H=O(\\log n)$\n",
    "5. Degenerate (or Pathological) tree\n",
    "    - Every internal node has one child\n",
    "    - Same as linkedList - Performance-wise \n",
    "    "
   ]
  }
 ],
 "metadata": {
  "interpreter": {
   "hash": "1713f69c0a21f405fcee740ebd7efd02b23dc99c305697ad69253f04bea7d558"
  },
  "kernelspec": {
   "display_name": "Python 3.10.2 64-bit",
   "language": "python",
   "name": "python3"
  },
  "language_info": {
   "codemirror_mode": {
    "name": "ipython",
    "version": 3
   },
   "file_extension": ".py",
   "mimetype": "text/x-python",
   "name": "python",
   "nbconvert_exporter": "python",
   "pygments_lexer": "ipython3",
   "version": "3.10.2"
  },
  "orig_nbformat": 4
 },
 "nbformat": 4,
 "nbformat_minor": 2
}
