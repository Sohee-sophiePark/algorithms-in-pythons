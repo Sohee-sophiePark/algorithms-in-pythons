{
 "cells": [
  {
   "cell_type": "markdown",
   "metadata": {},
   "source": [
    "# Problem 1: LeafSum\n",
    "\n",
    "Whole sum of every node value in tree\n",
    "\n",
    "## traversing tree\n",
    "- DFS: Depth First Search - backtracking\n",
    "    * easily implemented recursively\n",
    "- BFS: Breadth First Search - side to side \n"
   ]
  },
  {
   "cell_type": "code",
   "execution_count": null,
   "metadata": {},
   "outputs": [],
   "source": [
    "class Node:\n",
    "    def __init__(self):\n",
    "        self.data = None\n",
    "        self.left = None\n",
    "        self.right = None\n",
    "\n",
    "class TreeNode:\n",
    "    def __init_(self):\n",
    "        self.root = None\n",
    "        self.left = None\n",
    "        self.right= None\n",
    "\n",
    "    # def add(self, data):\n",
    "    #     if data\n",
    "\n",
    "# Psedo Code\n",
    "def leafSum(node):\n",
    "    # empty node\n",
    "    if node == null:\n",
    "        return 0\n",
    "\n",
    "    if isLeaf(node):\n",
    "        return node.getValue()\n",
    "\n",
    "        total = 0\n",
    "\n",
    "    for child in node.getChildNodes():\n",
    "        total += leafSum(child)\n",
    "\n",
    "    return total\n",
    "\n",
    "\n",
    "def isLeaf(node):\n",
    "    return node.getChildNodes().size() == 0"
   ]
  },
  {
   "cell_type": "markdown",
   "metadata": {},
   "source": [
    "# Problem 2: TreeHeight\n",
    "\n",
    "- Find the Height of Binary Tree \n",
    "    * Equivalent to the number of edges from the root to leaf\n",
    "\n",
    "- Each node has its own height\n",
    "    * recursive\n",
    "    * base case: h(leaf_node) = 0\n",
    "\n",
    "\n",
    "$ h(x) = max( h(x.left), h(x.right) ) + 1 $"
   ]
  },
  {
   "cell_type": "code",
   "execution_count": null,
   "metadata": {},
   "outputs": [],
   "source": [
    "#Pseudo Code\n",
    "\n",
    "def getTreeHeight(node):\n",
    "    if node is None:\n",
    "        return -1 # why not None as always each node plus 1 for own\n",
    "    \n",
    "    if node.left is None and node.right is None:\n",
    "        return 0\n",
    "\n",
    "    return max(getTreeHeight(node.left), getTreeHeight(node.right)) + 1"
   ]
  },
  {
   "cell_type": "markdown",
   "metadata": {},
   "source": [
    "# Proglem 3: How to Root a tree\n",
    "\n",
    "- root an undriected tree to add structure\n",
    "    * adjacency list\n",
    "    * any of its node but optimize the selection\n",
    "    * Root a tree can be easily done by dfs - depth frist search\n",
    "    "
   ]
  },
  {
   "cell_type": "code",
   "execution_count": null,
   "metadata": {},
   "outputs": [],
   "source": [
    "# Pseudo Code\n",
    "\n",
    "# create TreeNode Object \n",
    "class TreeNode:\n",
    "    def __init__(self, data, idx, parent, children):\n",
    "        self.tree = []\n",
    "        self.data = data\n",
    "        self.idx = idx\n",
    "        self.parent = parent\n",
    "        self.children = children\n",
    "\n",
    "class Tree:\n",
    "    def __init__(self):\n",
    "        self.root = None\n",
    "\n",
    "        \n",
    "    def rootTree(self):\n",
    "        self.root = TreeNode(self, 0, None, [])\n",
    "        return self.buildTree(self.tree, self.root, None)\n",
    "\n",
    "    # build tree recursively depth first    \n",
    "    def buildTree(self, node, parent):\n",
    "        for childIdx in self.tree[node.idx]:\n",
    "            if parent is not None and childIdx == parent.idx:\n",
    "                continue\n",
    "            child = TreeNode(childIdx, node, [])\n",
    "            node.children.add(child)\n",
    "            self.buildTree(self.tree, child, node)\n",
    "\n",
    "        return node\n"
   ]
  }
 ],
 "metadata": {
  "language_info": {
   "name": "python"
  },
  "orig_nbformat": 4
 },
 "nbformat": 4,
 "nbformat_minor": 2
}
