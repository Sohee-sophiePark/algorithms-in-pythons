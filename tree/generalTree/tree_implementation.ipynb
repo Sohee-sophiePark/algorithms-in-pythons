{
 "cells": [
  {
   "cell_type": "markdown",
   "metadata": {},
   "source": [
    "# Tree\n",
    "- Level / Height (Most # of Edges from root to bottom leaf)\n",
    "- Leaf - Bottom nodes without any children\n",
    "- No limit of # of children of each node\n",
    "\n",
    "    * ref: https://www.youtube.com/watch?v=4r_XR9fUPhQ&list=PLeo1K3hjS3uu_n_a__MI_KktGTLYopZ12&index=9"
   ]
  },
  {
   "cell_type": "code",
   "execution_count": 76,
   "metadata": {},
   "outputs": [],
   "source": [
    "class TreeNode:\n",
    "    def __init__(self, data):\n",
    "        # initialize properties for value of node itself \n",
    "        # for child nodes\n",
    "        # for parent node\n",
    "        self.data = data\n",
    "        self.children = []\n",
    "        self.parent = None\n",
    "\n",
    "    # add child nodes in list\n",
    "    def add_child(self, child):\n",
    "        # add parent node to any child nodes to refer to its own parent node\n",
    "        child.parent = self\n",
    "        self.children.append(child)\n",
    "\n",
    "\n",
    "    def get_level(self):\n",
    "        level = 0\n",
    "        # get parent occurent as this is for the level of node itself\n",
    "        p = self.parent\n",
    "        while p:\n",
    "            level += 1\n",
    "            p = p.parent\n",
    "\n",
    "        return level\n",
    "\n",
    "\n",
    "    # print nodes node and children nodes that belongs to the node\n",
    "    def print_tree(self):\n",
    "        \n",
    "        indent = \"  \" * self.get_level()\n",
    "        prefix = indent + \"|__\" if self.parent else \"\"\n",
    "        print(prefix + self.data)\n",
    "        if self.children:  \n",
    "            for child in self.children:\n",
    "                    # calling its own print_tree method that prints its own data - as a tree is a recursive model\n",
    "                    # the child tree will call print_tree to print its data and its children will call their own print_Tree recursively in order and so on\n",
    "                    child.print_tree()\n",
    "\n"
   ]
  },
  {
   "cell_type": "code",
   "execution_count": 77,
   "metadata": {},
   "outputs": [],
   "source": [
    "def build_tree():\n",
    "\n",
    "    # create an object for a root \n",
    "    root = TreeNode(\"Electronics\")\n",
    "    # create an object for sub category - laptop\n",
    "    laptop = TreeNode(\"Laptop\")\n",
    "    laptop.add_child(TreeNode(\"Mac\"))\n",
    "    laptop.add_child(TreeNode(\"Surface\"))\n",
    "    laptop.add_child(TreeNode(\"Thinkpad\"))\n",
    "\n",
    "    # create an object for sub category - cellPhone\n",
    "    cellPhone = TreeNode(\"Cell Phone\")\n",
    "    cellPhone.add_child(TreeNode(\"iPhone\"))\n",
    "    cellPhone.add_child(TreeNode(\"Pixel\"))\n",
    "    cellPhone.add_child(TreeNode(\"Galaxy\"))\n",
    "\n",
    "    # create an object for sub category - tv\n",
    "    tv = TreeNode(\"TV\")\n",
    "    tv.add_child(TreeNode(\"Samsung\"))\n",
    "    tv.add_child(TreeNode(\"LG\"))\n",
    "\n",
    "    # add all subcategoreis to root node as childrens\n",
    "    root.add_child(laptop)\n",
    "    root.add_child(cellPhone)\n",
    "    root.add_child(tv)\n",
    "\n",
    "    return root\n",
    "\n",
    "rootTree = build_tree()\n"
   ]
  },
  {
   "cell_type": "code",
   "execution_count": 78,
   "metadata": {},
   "outputs": [
    {
     "name": "stdout",
     "output_type": "stream",
     "text": [
      "Electronics\n",
      "  |__Laptop\n",
      "    |__Mac\n",
      "    |__Surface\n",
      "    |__Thinkpad\n",
      "  |__Cell Phone\n",
      "    |__iPhone\n",
      "    |__Pixel\n",
      "    |__Galaxy\n",
      "  |__TV\n",
      "    |__Samsung\n",
      "    |__LG\n"
     ]
    }
   ],
   "source": [
    "rootTree.print_tree()\n",
    "# print(rootTree.get_level()) # 0\n",
    "# print(rootTree.children[0].get_level()) # 1\n",
    "# print(rootTree.children[0].children[0].get_level()) # 2\n"
   ]
  },
  {
   "cell_type": "code",
   "execution_count": null,
   "metadata": {},
   "outputs": [],
   "source": []
  },
  {
   "cell_type": "code",
   "execution_count": null,
   "metadata": {},
   "outputs": [],
   "source": []
  }
 ],
 "metadata": {
  "interpreter": {
   "hash": "1713f69c0a21f405fcee740ebd7efd02b23dc99c305697ad69253f04bea7d558"
  },
  "kernelspec": {
   "display_name": "Python 3.10.2 64-bit",
   "language": "python",
   "name": "python3"
  },
  "language_info": {
   "codemirror_mode": {
    "name": "ipython",
    "version": 3
   },
   "file_extension": ".py",
   "mimetype": "text/x-python",
   "name": "python",
   "nbconvert_exporter": "python",
   "pygments_lexer": "ipython3",
   "version": "3.10.2"
  },
  "orig_nbformat": 4
 },
 "nbformat": 4,
 "nbformat_minor": 2
}
