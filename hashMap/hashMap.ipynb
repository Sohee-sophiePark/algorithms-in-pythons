{
 "cells": [
  {
   "cell_type": "code",
   "execution_count": 21,
   "metadata": {},
   "outputs": [],
   "source": [
    "class HashTable:\n",
    "    def __init__(self):\n",
    "        self.MAX = 100\n",
    "        self.arr = [None for i in range(self.MAX)]\n",
    "\n",
    "    def get_hash(self, key):\n",
    "        hSum = 0\n",
    "        for char in key:\n",
    "            hSum += ord(char)\n",
    "        return hSum % self.MAX\n",
    "\n",
    "    def __setitem__(self, key, val):\n",
    "        self.arr[self.get_hash(key)] = val\n",
    "\n",
    "    def __getitem__(self, key):\n",
    "        return self.arr[self.get_hash(key)]\n",
    "      \n",
    "    def __delitem__(self, key):\n",
    "        self.arr[self.get_hash(key)] = None\n",
    "        "
   ]
  },
  {
   "cell_type": "code",
   "execution_count": 41,
   "metadata": {},
   "outputs": [
    {
     "name": "stdout",
     "output_type": "stream",
     "text": [
      "59\n",
      "59\n",
      "2\n",
      "13\n"
     ]
    }
   ],
   "source": [
    "hTab = HashTable()\n",
    "hKey = hTab.get_hash('March 6')\n",
    "# print(hKey)\n",
    "# hTab.add('March 4', 6)\n",
    "hTab['March 4'] = 6\n",
    "hTab['March 4']\n",
    "del hTab['March 4']\n",
    "hTab['March 4']\n",
    "print(hTab.get_hash('march 17'))\n",
    "print(hTab.get_hash('march 26'))\n",
    "\n",
    "hTab['march 17'] = 2\n",
    "print(hTab['march 17'])\n",
    "hTab['march 26'] = 13\n",
    "print(hTab['march 17'])"
   ]
  },
  {
   "cell_type": "code",
   "execution_count": 71,
   "metadata": {},
   "outputs": [],
   "source": [
    "# Merge Conflict resolution\n",
    "## Chaining1\n",
    "class HashTableChaining1:\n",
    "    def __init__(self):\n",
    "        self.MAX = 100\n",
    "        self.arr = [[] for i in range(self.MAX)]\n",
    "\n",
    "    def get_hash(self, key):\n",
    "        hSum = 0\n",
    "        for char in key:\n",
    "            hSum += ord(char)\n",
    "        return hSum % self.MAX\n",
    "\n",
    "    def __setitem__(self, key, val):\n",
    "        for k in self.arr[self.get_hash(key)]:\n",
    "            if k[0] == key:\n",
    "                k[1] = val\n",
    "                return\n",
    "        self.arr[self.get_hash(key)].append([key, val])\n",
    "\n",
    "    def __getitem__(self, key):\n",
    "        for val in self.arr[self.get_hash(key)]:\n",
    "            if val[0] == key:\n",
    "                return val[1]\n",
    "           \n",
    "    def __delitem__(self, key):\n",
    "        arr = self.arr[self.get_hash(key)]\n",
    "        for val in arr:\n",
    "            if val[0] == key:\n",
    "                arr.remove(val)\n",
    "        \n",
    "        self.arr[self.get_hash(key)]=arr\n",
    "\n",
    "\n",
    "# 2 Hash Conflict \n",
    "class HashTableChaining:\n",
    "    def __init__(self):\n",
    "        self.MAX = 100\n",
    "        self.arr = [[] for i in range(self.MAX)]\n",
    "\n",
    "    def get_hash(self, key):\n",
    "        hSum = 0\n",
    "        for char in key:\n",
    "            hSum += ord(char)\n",
    "        return hSum % self.MAX\n",
    "\n",
    "    def __setitem__(self, key, val):\n",
    "        found = False\n",
    "        for idx, kv in enumerate(self.arr[self.get_hash(key)]):\n",
    "            if len(kv) == 2 and kv[0] == key:\n",
    "                self.arr[self.get_hash(key)][idx] = [key, val]\n",
    "                found = True\n",
    "                break\n",
    "        if not found:\n",
    "            self.arr[self.get_hash(key)].append([key, val])\n",
    "            \n",
    "\n",
    "    def __getitem__(self, key):\n",
    "        for idx, kv in enumerate(self.arr[self.get_hash(key)]):\n",
    "            if kv[0] == key:\n",
    "                return kv[1]\n",
    "           \n",
    "    def __delitem__(self, key):\n",
    "        for idx, kv in enumerate(self.arr[self.get_hash(key)]):\n",
    "            if kv[0] == key:\n",
    "                del self.arr[self.get_hash(key)][idx]\n",
    "        \n",
    "        \n"
   ]
  },
  {
   "cell_type": "code",
   "execution_count": 72,
   "metadata": {},
   "outputs": [
    {
     "name": "stdout",
     "output_type": "stream",
     "text": [
      "2\n",
      "4\n",
      "13\n",
      "None\n",
      "4\n",
      "2\n",
      "4\n",
      "13\n",
      "None\n",
      "4\n"
     ]
    },
    {
     "data": {
      "text/plain": [
       "[[], [], [], [], [], [], [], [], [], [['march 17', 4]]]"
      ]
     },
     "execution_count": 72,
     "metadata": {},
     "output_type": "execute_result"
    }
   ],
   "source": [
    "ht = HashTableChaining1()\n",
    "ht['march 17'] = 2\n",
    "print(ht['march 17'])\n",
    "ht['march 26'] = 13\n",
    "ht['march 17'] = 4\n",
    "print(ht['march 17'])\n",
    "print(ht['march 26'])\n",
    "del ht['march 26']\n",
    "print(ht['march 26'])\n",
    "print(ht['march 17'])\n",
    "ht.arr[50:60]\n",
    "\n",
    "htc = HashTableChaining()\n",
    "htc['march 17'] = 2\n",
    "print(htc['march 17'])\n",
    "htc['march 26'] = 13\n",
    "htc['march 17'] = 4\n",
    "print(htc['march 17'])\n",
    "print(htc['march 26'])\n",
    "del htc['march 26']\n",
    "print(htc['march 26'])\n",
    "print(htc['march 17'])\n",
    "htc.arr[50:60]"
   ]
  },
  {
   "cell_type": "code",
   "execution_count": null,
   "metadata": {},
   "outputs": [],
   "source": [
    "# Merge Conflict resolution\n",
    "## Linear Probing"
   ]
  }
 ],
 "metadata": {
  "interpreter": {
   "hash": "1713f69c0a21f405fcee740ebd7efd02b23dc99c305697ad69253f04bea7d558"
  },
  "kernelspec": {
   "display_name": "Python 3.10.2 64-bit",
   "language": "python",
   "name": "python3"
  },
  "language_info": {
   "codemirror_mode": {
    "name": "ipython",
    "version": 3
   },
   "file_extension": ".py",
   "mimetype": "text/x-python",
   "name": "python",
   "nbconvert_exporter": "python",
   "pygments_lexer": "ipython3",
   "version": "3.10.2"
  },
  "orig_nbformat": 4
 },
 "nbformat": 4,
 "nbformat_minor": 2
}
