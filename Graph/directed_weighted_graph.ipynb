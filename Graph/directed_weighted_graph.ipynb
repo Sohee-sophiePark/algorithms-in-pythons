{
 "cells": [
  {
   "cell_type": "code",
   "execution_count": 22,
   "metadata": {},
   "outputs": [],
   "source": [
    "class Graph:\n",
    "    class Vertex:\n",
    "        index = None #int\n",
    "        val = None\n",
    "\n",
    "        def __init__(self, index, val):\n",
    "            self.index = index\n",
    "            self.val = val\n",
    "\n",
    "        \n",
    "        def __repr__(self):\n",
    "            return f\"val: {self.val}, index: {self.index}\"\n",
    "\n",
    "    class Edge:\n",
    "        fromNode = None\n",
    "        toNode = None\n",
    "        weight = None\n",
    "\n",
    "        def __init__(self, fromNode, toNode, weight=0):\n",
    "            self.fromNode = fromNode\n",
    "            self.toNode = toNode\n",
    "            self.weight = weight\n",
    "\n",
    "        def __repr__(self):\n",
    "            return f\"fromNode: {self.fromNode}, toNode: {self.toNode}, weight: {self.weight}\"\n",
    "\n",
    "    nodes = []\n",
    "    edges = []\n",
    "    currentIdx = 0\n",
    "\n",
    "    def insertEdge(self, fromV, toV, weight):\n",
    "        fromVertex = None\n",
    "        toVertex = None\n",
    "\n",
    "        for node in self.nodes:\n",
    "            if node.val == fromV:\n",
    "                fromVertex = node\n",
    "            if node.val == toV:\n",
    "                toVertex = node\n",
    "\n",
    "        if not fromVertex:\n",
    "            fromVertex = self.Vertex(self.currentIdx, fromV)\n",
    "            self.currentIdx += 1\n",
    "\n",
    "        if not toVertex:\n",
    "            toVertex = self.Vertex(self.currentIdx, toV)\n",
    "            self.currentIdx += 1\n",
    "\n",
    "        self.nodes.append(fromVertex)\n",
    "        self.nodes.append(toVertex)\n",
    "        self.edges.append(self.Edge(fromV, toV, weight))\n",
    "\n",
    "    def print(self):\n",
    "        for edge in self.edges:\n",
    "            print(edge)"
   ]
  },
  {
   "cell_type": "code",
   "execution_count": 23,
   "metadata": {},
   "outputs": [],
   "source": [
    "g = Graph()\n",
    "g.insertEdge(\"A\", \"B\", 300)\n",
    "g.insertEdge('B', 'D', 400)\n",
    "g.insertEdge('A', 'C', 150)\n",
    "g.insertEdge('D', 'A', 200)\n"
   ]
  },
  {
   "cell_type": "code",
   "execution_count": 24,
   "metadata": {},
   "outputs": [
    {
     "name": "stdout",
     "output_type": "stream",
     "text": [
      "fromNode: A, toNode: B, weight: 300\n",
      "fromNode: B, toNode: D, weight: 400\n",
      "fromNode: A, toNode: C, weight: 150\n",
      "fromNode: D, toNode: A, weight: 200\n"
     ]
    }
   ],
   "source": [
    "g.print()\n",
    "\n"
   ]
  }
 ],
 "metadata": {
  "interpreter": {
   "hash": "afe6c377662d3cf3baae407810cc6015126ebe0984753d811cf9a813dcbd161d"
  },
  "kernelspec": {
   "display_name": "Python 3.10.2 64-bit",
   "language": "python",
   "name": "python3"
  },
  "language_info": {
   "codemirror_mode": {
    "name": "ipython",
    "version": 3
   },
   "file_extension": ".py",
   "mimetype": "text/x-python",
   "name": "python",
   "nbconvert_exporter": "python",
   "pygments_lexer": "ipython3",
   "version": "3.10.2"
  },
  "orig_nbformat": 4
 },
 "nbformat": 4,
 "nbformat_minor": 2
}
