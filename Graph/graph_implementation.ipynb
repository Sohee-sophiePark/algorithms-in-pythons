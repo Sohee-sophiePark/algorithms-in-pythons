{
 "cells": [
  {
   "cell_type": "markdown",
   "metadata": {},
   "source": [
    "# Graph\n",
    "- undircted graph - social netowrk media\n",
    "- directed graph - flight routes\n",
    "- graph has multiple path node to n ode but tree has only path\n",
    "- weighted graph - when edge has own weight between nodes\n",
    "\n",
    "ref: https://www.youtube.com/watch?v=j0IYCyBdzfA&list=PLeo1K3hjS3uu_n_a__MI_KktGTLYopZ12&index=12"
   ]
  },
  {
   "cell_type": "code",
   "execution_count": 93,
   "metadata": {},
   "outputs": [],
   "source": [
    "class Graph:\n",
    "    def __init__(self, edges):\n",
    "        self.edges = edges\n",
    "        self.graph = {}\n",
    "\n",
    "        for start, end in self.edges:\n",
    "            if start in self.graph:\n",
    "                self.graph[start].append(end)\n",
    "            else:\n",
    "                self.graph[start] = [end]\n",
    "            # print(f\"Graph: {self.graph}\")\n",
    "\n",
    "        \n",
    "    def get_paths(self, start, end, path=[]):\n",
    "        path = path + [start]\n",
    "        # print(f\"start: {start} - end: {end} - path {path}\")\n",
    "        if start == end:\n",
    "            return [path]\n",
    "\n",
    "        if start not in self.graph:\n",
    "            return []\n",
    "\n",
    "        paths = []\n",
    "        for stop in self.graph[start]:\n",
    "            # print(path)\n",
    "            if stop not in path:\n",
    "                new_paths = self.get_paths(stop, end, path)\n",
    "                for p in new_paths:\n",
    "                    paths.append(p)\n",
    "\n",
    "        return paths\n",
    "\n",
    "    \n",
    "    def get_shorted_path(self, start, end, path=[]):\n",
    "        # always includ start point in path first\n",
    "        path = path + [start]\n",
    "        print(f\"start {start} - end {end}\")\n",
    "\n",
    "        # when start point is equal to end or - the stop reaches the end point\n",
    "        # print(f\"self.graph {self.graph}\")\n",
    "        if start == end:\n",
    "            return path\n",
    "\n",
    "        # if start point / stop is not in graph - key return None\n",
    "        if start not in self.graph:\n",
    "            return None\n",
    "            # return []\n",
    "        \n",
    "        shortest_path = None\n",
    "        for stop in self.graph[start]:\n",
    "            print(f\"stop - {stop}\")\n",
    "            if stop not in path:\n",
    "                sp = self.get_shorted_path(stop, end, path)\n",
    "                if sp:\n",
    "                    if shortest_path is None or len(sp) < len(shortest_path):\n",
    "                        # if (len(shortest_path) == 0) or (len(sp) < len(shortest_path)):\n",
    "                        shortest_path = sp\n",
    "\n",
    "        \n",
    "        return shortest_path\n",
    "                \n",
    "\n",
    "        \n",
    "\n",
    "\n",
    "    # def travel(self, start, end, path=[]):\n",
    "    #     if stop in self.graph[start]:\n",
    "    #         self.get_paths(start, start, end, [])\n",
    "    #         self.travel()\n",
    "\n",
    "            \n",
    "\n",
    "\n",
    "\n"
   ]
  },
  {
   "cell_type": "code",
   "execution_count": 94,
   "metadata": {},
   "outputs": [],
   "source": [
    "routes = [\n",
    "    (\"A\", \"B\"),\n",
    "    (\"A\", \"C\"),\n",
    "    (\"B\", \"D\"),\n",
    "    (\"B\", \"E\"),\n",
    "    (\"D\", \"E\"),\n",
    "    (\"F\", \"G\")\n",
    "]"
   ]
  },
  {
   "cell_type": "code",
   "execution_count": 95,
   "metadata": {},
   "outputs": [
    {
     "name": "stdout",
     "output_type": "stream",
     "text": [
      "start A - end E\n",
      "stop - B\n",
      "start B - end E\n",
      "stop - D\n",
      "start D - end E\n",
      "stop - E\n",
      "start E - end E\n",
      "stop - E\n",
      "start E - end E\n",
      "stop - C\n",
      "start C - end E\n",
      "['A', 'B', 'E']\n"
     ]
    }
   ],
   "source": [
    "graph = Graph(routes)\n",
    "start = \"A\"\n",
    "end = \"E\"\n",
    "graph.get_paths(start, end)\n",
    "print(graph.get_shorted_path(start, end))"
   ]
  },
  {
   "cell_type": "code",
   "execution_count": 89,
   "metadata": {},
   "outputs": [
    {
     "name": "stdout",
     "output_type": "stream",
     "text": [
      "not need to change\n"
     ]
    }
   ],
   "source": [
    "if None:\n",
    "    print([])\n",
    "else:\n",
    "    print(\"not need to change\")"
   ]
  },
  {
   "cell_type": "code",
   "execution_count": null,
   "metadata": {},
   "outputs": [],
   "source": []
  }
 ],
 "metadata": {
  "interpreter": {
   "hash": "1713f69c0a21f405fcee740ebd7efd02b23dc99c305697ad69253f04bea7d558"
  },
  "kernelspec": {
   "display_name": "Python 3.10.2 64-bit",
   "language": "python",
   "name": "python3"
  },
  "language_info": {
   "codemirror_mode": {
    "name": "ipython",
    "version": 3
   },
   "file_extension": ".py",
   "mimetype": "text/x-python",
   "name": "python",
   "nbconvert_exporter": "python",
   "pygments_lexer": "ipython3",
   "version": "3.10.2"
  },
  "orig_nbformat": 4
 },
 "nbformat": 4,
 "nbformat_minor": 2
}
