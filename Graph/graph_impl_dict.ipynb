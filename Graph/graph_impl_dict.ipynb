{
 "cells": [
  {
   "cell_type": "code",
   "execution_count": null,
   "metadata": {},
   "outputs": [],
   "source": [
    "class Grpah:\n",
    "    def __init__(self, V, E):\n",
    "        self.V = set(V)\n",
    "        self.E = set(frozenset((u, v)) for u, v in E)\n",
    "        self._nbrs = {}\n",
    "        for v in self.V:\n",
    "            self._nbrs[v] set()\n",
    "        for u, v in self.E:\n",
    "            self._nbrs[u].add(v)\n",
    "            self._nbrs[v].add(u)\n",
    "\n",
    "    def deg(self, v):\n",
    "        return len(self._nbrs[v])\n",
    "\n",
    "\n",
    "    def nbrs(slef, v):\n",
    "        return iter(self._nbrs[v])"
   ]
  },
  {
   "cell_type": "code",
   "execution_count": null,
   "metadata": {},
   "outputs": [],
   "source": [
    "G = Graph([1, 2, 3], {(1, 2), (2, 3)})\n",
    "assert(G.deg(1) == 1)\n",
    "assert(G.deg(2) == 2)\n",
    "assert(G.deg(3) == 1)"
   ]
  }
 ],
 "metadata": {
  "interpreter": {
   "hash": "1713f69c0a21f405fcee740ebd7efd02b23dc99c305697ad69253f04bea7d558"
  },
  "kernelspec": {
   "display_name": "Python 3.10.2 64-bit",
   "language": "python",
   "name": "python3"
  },
  "language_info": {
   "name": "python",
   "version": "3.10.2"
  },
  "orig_nbformat": 4
 },
 "nbformat": 4,
 "nbformat_minor": 2
}
