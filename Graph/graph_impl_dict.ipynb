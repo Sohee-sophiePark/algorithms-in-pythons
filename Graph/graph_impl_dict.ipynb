{
 "cells": [
  {
   "cell_type": "code",
   "execution_count": 1,
   "metadata": {},
   "outputs": [
    {
     "ename": "SyntaxError",
     "evalue": "invalid syntax (896518133.py, line 7)",
     "output_type": "error",
     "traceback": [
      "\u001b[1;36m  Input \u001b[1;32mIn [1]\u001b[1;36m\u001b[0m\n\u001b[1;33m    self._nbrs[v] set()\u001b[0m\n\u001b[1;37m                  ^\u001b[0m\n\u001b[1;31mSyntaxError\u001b[0m\u001b[1;31m:\u001b[0m invalid syntax\n"
     ]
    }
   ],
   "source": [
    "class Grpah:\n",
    "    def __init__(self, V, E):\n",
    "        self.V = set(V)\n",
    "        self.E = set(frozenset((u, v)) for u, v in E)\n",
    "        self._nbrs = {}\n",
    "        for v in self.V:\n",
    "            self._nbrs[v] \n",
    "        for u, v in self.E:\n",
    "            self._nbrs[u].add(v)\n",
    "            self._nbrs[v].add(u)\n",
    "\n",
    "    def deg(self, v):\n",
    "        return len(self._nbrs[v])\n",
    "\n",
    "\n",
    "    def nbrs(slef, v):\n",
    "        return iter(self._nbrs[v])"
   ]
  },
  {
   "cell_type": "code",
   "execution_count": null,
   "metadata": {},
   "outputs": [],
   "source": [
    "G = Graph([1, 2, 3], {(1, 2), (2, 3)})\n",
    "assert(G.deg(1) == 1)\n",
    "assert(G.deg(2) == 2)\n",
    "assert(G.deg(3) == 1)"
   ]
  }
 ],
 "metadata": {
  "interpreter": {
   "hash": "afe6c377662d3cf3baae407810cc6015126ebe0984753d811cf9a813dcbd161d"
  },
  "kernelspec": {
   "display_name": "Python 3.10.2 64-bit",
   "language": "python",
   "name": "python3"
  },
  "language_info": {
   "codemirror_mode": {
    "name": "ipython",
    "version": 3
   },
   "file_extension": ".py",
   "mimetype": "text/x-python",
   "name": "python",
   "nbconvert_exporter": "python",
   "pygments_lexer": "ipython3",
   "version": "3.10.2"
  },
  "orig_nbformat": 4
 },
 "nbformat": 4,
 "nbformat_minor": 2
}
