{
 "cells": [
  {
   "cell_type": "markdown",
   "metadata": {},
   "source": [
    "# Deque in Python - Doubly Ended Queue\n",
    "- Implementing with the module 'collections'\n",
    "- quicker append / pop - preferred over list with Time complexity $O(1)$"
   ]
  },
  {
   "cell_type": "markdown",
   "metadata": {},
   "source": [
    "* Operations on Deque\n",
    "- append() - insert into the right end of the deque\n",
    "- appendleft() - insert into the left end of the deque\n",
    "- pop() - delete and return the right end of the deque\n",
    "- popleft() - delete and return the left end of the deque"
   ]
  },
  {
   "cell_type": "code",
   "execution_count": 17,
   "metadata": {},
   "outputs": [
    {
     "name": "stdout",
     "output_type": "stream",
     "text": [
      "deque(['val1', 'val2', 'val3'])\n"
     ]
    }
   ],
   "source": [
    "from collections import deque\n",
    "\n",
    "de = deque(['val1', 'val2', 'val3'])\n",
    "print(de)"
   ]
  },
  {
   "cell_type": "code",
   "execution_count": 18,
   "metadata": {},
   "outputs": [
    {
     "name": "stdout",
     "output_type": "stream",
     "text": [
      "deque(['val1', 'val2', 'val3', 4])\n",
      "deque([2, 'val1', 'val2', 'val3', 4])\n",
      "4\n",
      "2\n"
     ]
    }
   ],
   "source": [
    "de.append(4)\n",
    "print(de)\n",
    "de.appendleft(2)\n",
    "print(de)\n",
    "resRightEnd = de.pop()\n",
    "print(resRightEnd)\n",
    "resLeftEnd = de.popleft()\n",
    "print(resLeftEnd)\n"
   ]
  },
  {
   "cell_type": "markdown",
   "metadata": {},
   "source": [
    "* Other Operations\n",
    "- index(element, begin, end)\n",
    "- insert(index, arg)\n",
    "- remove(first_element_for_arg)\n",
    "- count(occurent_of_element_for_arg)"
   ]
  },
  {
   "cell_type": "code",
   "execution_count": 20,
   "metadata": {},
   "outputs": [
    {
     "name": "stdout",
     "output_type": "stream",
     "text": [
      "3\n",
      "deque([1, 2, 7, 2, 3, 2, 3, 4, 3, 3, 2, 8, 9])\n",
      "1\n",
      "deque([1, 2, 7, 2, 3, 2, 3, 4, 3, 3, 2, 9])\n"
     ]
    }
   ],
   "source": [
    "de = deque([1, 2, 2, 4, 2, 3, 4, 3, 3, 2, 8, 9])\n",
    "print(de.index(4, 2, 5)) # 3\n",
    "de = deque([1, 2, 2, 3, 2, 3, 4, 3, 3, 2, 8, 9])\n",
    "try:\n",
    "    print(de.index(4, 2, 5)) # ValueError: 4 is not in deque\n",
    "except:\n",
    "    pass \n",
    "de.insert(2, 7)\n",
    "print(de)\n",
    "print(de.count(7))\n",
    "de.remove(8)\n",
    "print(de)\n",
    "\n",
    "\n"
   ]
  },
  {
   "cell_type": "code",
   "execution_count": null,
   "metadata": {},
   "outputs": [],
   "source": []
  }
 ],
 "metadata": {
  "interpreter": {
   "hash": "1713f69c0a21f405fcee740ebd7efd02b23dc99c305697ad69253f04bea7d558"
  },
  "kernelspec": {
   "display_name": "Python 3.10.2 64-bit",
   "language": "python",
   "name": "python3"
  },
  "language_info": {
   "codemirror_mode": {
    "name": "ipython",
    "version": 3
   },
   "file_extension": ".py",
   "mimetype": "text/x-python",
   "name": "python",
   "nbconvert_exporter": "python",
   "pygments_lexer": "ipython3",
   "version": "3.10.2"
  },
  "orig_nbformat": 4
 },
 "nbformat": 4,
 "nbformat_minor": 2
}
