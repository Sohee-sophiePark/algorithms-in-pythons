{
 "cells": [
  {
   "cell_type": "markdown",
   "metadata": {},
   "source": [
    "* Highest Cost Orders\n",
    "Find the customer with the highest daily total order cost between 2019-02-01 to 2019-05-01. \n",
    "If customer had more than one order on a certain day, sum the order costs on daily basis. \n",
    "Output customer's first name, total cost of their items, and the date.\n",
    " \n",
    "For simplicity, you can assume that every first name in the dataset is unique.\n",
    "\n",
    "customers\n",
    "id  int64\n",
    "\n",
    "    first_name  object\n",
    "    last_name   object\n",
    "    city    object\n",
    "    address object\n",
    "    phone_number    object\n",
    "\n",
    "orders\n",
    "\n",
    "    idint64\n",
    "    cust_id int64\n",
    "    order_date  datetime64[ns]\n",
    "    order_details   object\n",
    "    total_order_cost    int64"
   ]
  },
  {
   "cell_type": "code",
   "execution_count": 1,
   "metadata": {},
   "outputs": [
    {
     "ename": "ModuleNotFoundError",
     "evalue": "No module named 'pandas'",
     "output_type": "error",
     "traceback": [
      "\u001b[1;31m---------------------------------------------------------------------------\u001b[0m",
      "\u001b[1;31mModuleNotFoundError\u001b[0m                       Traceback (most recent call last)",
      "\u001b[1;32mc:\\Users\\sohee.park\\Documents\\S.park\\Learning\\Algo\\algorithms-in-pythons\\HackerRank\\Medium\\Highest_cost_order.ipynb Cell 2'\u001b[0m in \u001b[0;36m<cell line: 1>\u001b[1;34m()\u001b[0m\n\u001b[1;32m----> <a href='vscode-notebook-cell:/c%3A/Users/sohee.park/Documents/S.park/Learning/Algo/algorithms-in-pythons/HackerRank/Medium/Highest_cost_order.ipynb#ch0000000?line=0'>1</a>\u001b[0m \u001b[39mimport\u001b[39;00m \u001b[39mpandas\u001b[39;00m \u001b[39mas\u001b[39;00m \u001b[39mpd\u001b[39;00m\n\u001b[0;32m      <a href='vscode-notebook-cell:/c%3A/Users/sohee.park/Documents/S.park/Learning/Algo/algorithms-in-pythons/HackerRank/Medium/Highest_cost_order.ipynb#ch0000000?line=2'>3</a>\u001b[0m \u001b[39m# Start writing code\u001b[39;00m\n\u001b[0;32m      <a href='vscode-notebook-cell:/c%3A/Users/sohee.park/Documents/S.park/Learning/Algo/algorithms-in-pythons/HackerRank/Medium/Highest_cost_order.ipynb#ch0000000?line=3'>4</a>\u001b[0m \u001b[39m# expected output: first name, total cost of items, date\u001b[39;00m\n\u001b[0;32m      <a href='vscode-notebook-cell:/c%3A/Users/sohee.park/Documents/S.park/Learning/Algo/algorithms-in-pythons/HackerRank/Medium/Highest_cost_order.ipynb#ch0000000?line=4'>5</a>\u001b[0m \u001b[39m#   first_name, total_order_cost, order_date\u001b[39;00m\n\u001b[1;32m   (...)\u001b[0m\n\u001b[0;32m      <a href='vscode-notebook-cell:/c%3A/Users/sohee.park/Documents/S.park/Learning/Algo/algorithms-in-pythons/HackerRank/Medium/Highest_cost_order.ipynb#ch0000000?line=8'>9</a>\u001b[0m \u001b[39m# customers.head()\u001b[39;00m\n\u001b[0;32m     <a href='vscode-notebook-cell:/c%3A/Users/sohee.park/Documents/S.park/Learning/Algo/algorithms-in-pythons/HackerRank/Medium/Highest_cost_order.ipynb#ch0000000?line=9'>10</a>\u001b[0m \u001b[39m# orders.head()\u001b[39;00m\n\u001b[0;32m     <a href='vscode-notebook-cell:/c%3A/Users/sohee.park/Documents/S.park/Learning/Algo/algorithms-in-pythons/HackerRank/Medium/Highest_cost_order.ipynb#ch0000000?line=11'>12</a>\u001b[0m joined_df \u001b[39m=\u001b[39m pd\u001b[39m.\u001b[39mmerge(orders, customers, left_on\u001b[39m=\u001b[39m\u001b[39m'\u001b[39m\u001b[39mcust_id\u001b[39m\u001b[39m'\u001b[39m, right_on \u001b[39m=\u001b[39m\u001b[39m'\u001b[39m\u001b[39mid\u001b[39m\u001b[39m'\u001b[39m, how\u001b[39m=\u001b[39m\u001b[39m'\u001b[39m\u001b[39mleft\u001b[39m\u001b[39m'\u001b[39m)\n",
      "\u001b[1;31mModuleNotFoundError\u001b[0m: No module named 'pandas'"
     ]
    }
   ],
   "source": [
    "import pandas as pd\n",
    "\n",
    "# Start writing code\n",
    "# expected output: first name, total cost of items, date\n",
    "#   first_name, total_order_cost, order_date\n",
    "# constraint: date range 2019-02-01 to 2019-05-01\n",
    "## join condition customer.id = orders.cust_id\n",
    "\n",
    "# customers.head()\n",
    "# orders.head()\n",
    "\n",
    "#1\n",
    "joined_df = pd.merge(orders, customers, left_on='cust_id', right_on ='id', how='left')\n",
    "# joined_df.order_date = pd.to_datetime(joined_df['order_date']).dt.strftime('%Y-%m-%d')\n",
    "joined_df.order_date = joined_df.order_date.dt.strftime('%Y-%m-%d')\n",
    "filtered_df = pd.DataFrame(joined_df[(joined_df.order_date >= '2019-02-01')&(joined_df.order_date <= '2019-05-01')][['first_name', 'order_date', 'total_order_cost']])\n",
    "agg_df = filtered_df.groupby(['first_name', 'order_date'], as_index=False).sum()\n",
    "res_df = agg_df[agg_df.total_order_cost == agg_df.total_order_cost.max()]\n",
    "\n",
    "\n"
   ]
  },
  {
   "cell_type": "code",
   "execution_count": null,
   "metadata": {},
   "outputs": [],
   "source": [
    "#2 different way to merge\n",
    "df = orders.merge(customers, left_on ='cust_id', right_on='id')[['first_name','cust_id', 'order_date', 'total_order_cost']]\n",
    "total_df = df.groupby(['first_name','order_date'], as_index=False).sum().reset_index()[['first_name', 'order_date', 'total_order_cost']]\n",
    "agg_df = total_df[(total_df['order_date']>='2019-02-01') & (total_df['order_date']<='2019-05-01')]\n",
    "agg_df.order_date = agg_df.order_date.dt.strftime('%Y-%m-%d')\n",
    "agg_df.sort_values('total_order_cost', ascending=False).head(1)"
   ]
  }
 ],
 "metadata": {
  "interpreter": {
   "hash": "1713f69c0a21f405fcee740ebd7efd02b23dc99c305697ad69253f04bea7d558"
  },
  "kernelspec": {
   "display_name": "Python 3.10.2 64-bit",
   "language": "python",
   "name": "python3"
  },
  "language_info": {
   "codemirror_mode": {
    "name": "ipython",
    "version": 3
   },
   "file_extension": ".py",
   "mimetype": "text/x-python",
   "name": "python",
   "nbconvert_exporter": "python",
   "pygments_lexer": "ipython3",
   "version": "3.10.2"
  },
  "orig_nbformat": 4
 },
 "nbformat": 4,
 "nbformat_minor": 2
}
